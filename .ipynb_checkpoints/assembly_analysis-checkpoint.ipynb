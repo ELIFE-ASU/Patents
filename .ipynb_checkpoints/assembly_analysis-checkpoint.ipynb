{
 "cells": [
  {
   "cell_type": "code",
   "execution_count": 1,
   "metadata": {},
   "outputs": [],
   "source": [
    "import pickle\n",
    "import matplotlib.pyplot as plt\n",
    "import numpy as np"
   ]
  },
  {
   "cell_type": "code",
   "execution_count": 2,
   "metadata": {},
   "outputs": [],
   "source": [
    "## Matplotlib defaults ##\n",
    "colors = {\"5\": \"#aa0f35\", \n",
    "         \"6\": \"#fdc799\",\n",
    "         \"7\": \"#a0a75c\",\n",
    "         \"8\": \"#603734\",\n",
    "         \"9\": \"#abdbfc\",\n",
    "         \"10\": \"#313a61\",\n",
    "         \"15\": \"#bfbad5\",\n",
    "         \"20\": \"#f89b00\"}\n",
    "\n",
    "font = {'family' : 'normal',\n",
    "        'weight' : 'bold',\n",
    "        'size'   : 22}\n",
    "\n",
    "plt.rcParams.update({'font.size': 22})"
   ]
  },
  {
   "cell_type": "markdown",
   "metadata": {},
   "source": [
    "# Overview\n",
    "\n",
    "Analyze assembly index calculations across patent data. These calculations are from random samples of compounds present in each month from 1980-2019.\n",
    "\n",
    "//TODO: sample from new compounds added in each month"
   ]
  },
  {
   "cell_type": "code",
   "execution_count": 3,
   "metadata": {},
   "outputs": [],
   "source": [
    "fp = \"Data/assembly_values.p\"\n",
    "assembly_values = pickle.load(file=open(fp, \"rb\"))"
   ]
  },
  {
   "cell_type": "code",
   "execution_count": 5,
   "metadata": {},
   "outputs": [
    {
     "name": "stdout",
     "output_type": "stream",
     "text": [
      "[{'month': '1980-01', 'inchi': 'InChI=1S/C2H2Cl4/c3-1(4)2(5)6/h1-2H', 'ai': 3}, {'month': '1980-01', 'inchi': 'InChI=1S/C6H8O2/c1-2-8-6(7)5-3-4-5/h2,5H,1,3-4H2', 'ai': 7}, {'month': '1980-01', 'inchi': 'InChI=1S/2C3H6.C2H6O2/c2*1-3-2;3-1-2-4/h2*3H,1H2,2H3;3-4H,1-2H2', 'ai': 1}, {'month': '1980-01', 'inchi': 'InChI=1S/C8H17N/c1-9(2)8-6-4-3-5-7-8/h8H,3-7H2,1-2H3', 'ai': 6}, {'month': '1980-01', 'inchi': 'InChI=1S/C15H24O/c1-2-3-4-5-6-7-8-9-14-10-12-15(16)13-11-14/h10-13,16H,2-9H2,1H3', 'ai': 9}, {'month': '1980-01', 'inchi': 'InChI=1S/C6H5BrO/c7-5-1-3-6(8)4-2-5/h1-4,8H', 'ai': 5}, {'month': '1980-01', 'inchi': 'InChI=1S/C10H15N/c1-3-11(4-2)10-8-6-5-7-9-10/h5-9H,3-4H2,1-2H3', 'ai': 8}, {'month': '1980-01', 'inchi': 'InChI=1S/C9H6N2O2/c1-7-3-2-4-8(10-5-12)9(7)11-6-13/h2-4H,1H3', 'ai': 9}, {'month': '1980-01', 'inchi': 'InChI=1S/C8H18O2/c1-2-3-4-5-7-10-8-6-9/h9H,2-8H2,1H3', 'ai': 6}, {'month': '1980-01', 'inchi': 'InChI=1S/C12H18Br6/c13-7-1-2-8(14)10(16)5-6-12(18)11(17)4-3-9(7)15/h7-12H,1-6H2', 'ai': 10}]\n"
     ]
    }
   ],
   "source": [
    "print(assembly_values[0:10])"
   ]
  },
  {
   "cell_type": "code",
   "execution_count": 6,
   "metadata": {},
   "outputs": [],
   "source": [
    "def build_month_increments(start, stop):\n",
    "    \"\"\" Build all monthly increments from the start year to stop year in the\n",
    "    format YEAR-MONTH\n",
    "\n",
    "    Args:\n",
    "        start (int): start year of increments\n",
    "        stop (int): end year of increments\n",
    "\n",
    "    Returns:\n",
    "        list: list of strings holding the YEAR-MONTH increments\n",
    "    \"\"\"\n",
    "    months = []\n",
    "    while start <= stop:\n",
    "        for month in [\n",
    "                \"01\", \"02\", \"03\", \"04\", \"05\", \"06\", \"07\", \"08\", \"09\", \"10\",\n",
    "                \"11\", \"12\"\n",
    "        ]:\n",
    "            months.append(str(start) + \"-\" + month)\n",
    "        start += 1\n",
    "\n",
    "    return months"
   ]
  },
  {
   "cell_type": "markdown",
   "metadata": {},
   "source": []
  }
 ],
 "metadata": {
  "kernelspec": {
   "display_name": "Python 3",
   "language": "python",
   "name": "python3"
  },
  "language_info": {
   "codemirror_mode": {
    "name": "ipython",
    "version": 3
   },
   "file_extension": ".py",
   "mimetype": "text/x-python",
   "name": "python",
   "nbconvert_exporter": "python",
   "pygments_lexer": "ipython3",
   "version": "3.7.3"
  }
 },
 "nbformat": 4,
 "nbformat_minor": 4
}

{
 "cells": [
  {
   "cell_type": "code",
   "execution_count": 1,
   "metadata": {},
   "outputs": [],
   "source": [
    "import pandas as pd\n",
    "import matplotlib.pyplot as plt\n",
    "import pickle\n",
    "from tqdm import tqdm\n",
    "import os\n",
    "import numpy as np\n",
    "import json"
   ]
  },
  {
   "cell_type": "code",
   "execution_count": 45,
   "metadata": {},
   "outputs": [],
   "source": [
    "#Matplotlib defaults (eventually)\n",
    "plt.rcParams.update({'font.size': 22})"
   ]
  },
  {
   "attachments": {},
   "cell_type": "markdown",
   "metadata": {},
   "source": [
    "# Step 1: Build data structures\n",
    "\n",
    "See pg 116 in notebook\n",
    "\n",
    "* Dataframe, organized by individual patent-author / patent-assignee combinations (with appropriate tags)\n",
    "    - in Data/Patents/patent_MA_results.csv\n",
    "* Dictionary linking patents to a list of cpds associated with it\n",
    "    - in Data/Patents/patent_cpds_links.p\n",
    "* Dictionary linking patents to a list of MA values associated with it\n",
    "* Dictionary linking patents to classifications"
   ]
  },
  {
   "cell_type": "code",
   "execution_count": 3,
   "metadata": {},
   "outputs": [],
   "source": [
    "## Patent/classification dictionary\n",
    "author_df = pd.read_csv(\"Data/Patents/patent_author_records.csv\")\n",
    "assignee_df = pd.read_csv(\"Data/Patents/patent_assignee_records.csv\")"
   ]
  },
  {
   "cell_type": "code",
   "execution_count": 6,
   "metadata": {},
   "outputs": [
    {
     "name": "stdout",
     "output_type": "stream",
     "text": [
      "744686\n",
      "332467\n",
      "660634\n"
     ]
    }
   ],
   "source": [
    "#Do author/assignees have different patent ids?\n",
    "\n",
    "author_ids = list(set(list(author_df[\"ID\"])))\n",
    "assignee_ids = list(set(list(assignee_df[\"ID\"])))\n",
    "\n",
    "print(len(author_ids))\n",
    "print(len(assignee_ids))\n",
    "\n",
    "print(len(set(author_ids) - set(assignee_ids))) #This should be 0..."
   ]
  },
  {
   "cell_type": "code",
   "execution_count": 7,
   "metadata": {},
   "outputs": [
    {
     "name": "stdout",
     "output_type": "stream",
     "text": [
      "744686\n",
      "993101\n"
     ]
    }
   ],
   "source": [
    "patent_classifications = dict(zip(author_df.ID, author_df.classification))\n",
    "\n",
    "print(len(patent_classifications))\n",
    "\n",
    "patent_classifications.update(dict(zip(assignee_df.ID, assignee_df.classification)))\n",
    "\n",
    "print(len(patent_classifications))\n",
    "\n",
    "# tqdm.pandas()\n",
    "\n",
    "# print(\"----- Author Patents ----- \")\n",
    "# for index, row in tqdm(author_df.iterrows(), total=len(author_df)):\n",
    "#     patent_classifications[row[\"ID\"]] = row[\"classification\"]\n",
    "\n",
    "# print(\"----- Assignee Patents -----\")\n",
    "# for index, row in tqdm(assignee_df.iterrows(), total=len(assignee_df)):\n",
    "#     patent_classifications[row[\"ID\"]] = row[\"classification\"]\n",
    "\n"
   ]
  },
  {
   "cell_type": "code",
   "execution_count": 8,
   "metadata": {},
   "outputs": [],
   "source": [
    "pickle.dump(patent_classifications, file=open(\"Data/Patents/patent_classification_links.p\", \"wb\"))"
   ]
  },
  {
   "attachments": {},
   "cell_type": "markdown",
   "metadata": {},
   "source": [
    "# Step 2: Link MAs with authors/companies\n",
    "\n",
    "(1/9) Currently incomplete - data is still running on agave"
   ]
  },
  {
   "cell_type": "code",
   "execution_count": 2,
   "metadata": {},
   "outputs": [
    {
     "name": "stdout",
     "output_type": "stream",
     "text": [
      "   Unnamed: 0                ID         author    assignees\n",
      "0           0  US-2016000413-A1  A AMAR OUSAMA  UNIV_BOSTON\n",
      "1           3  US-2016000413-A1   BIGIO IRVING  UNIV_BOSTON\n",
      "2           6  US-2016000413-A1  BRIGGS JOHN C  UNIV_BOSTON\n",
      "3           9  US-2016000413-A1  CHARGIN DAVID  UNIV_BOSTON\n",
      "4          12  US-2016000413-A1  LEE STEPHANIE  UNIV_BOSTON\n"
     ]
    }
   ],
   "source": [
    "results_df = pd.read_csv(\"Data/Patents/patent_MA_results.csv\")\n",
    "\n",
    "print(results_df.head())"
   ]
  },
  {
   "cell_type": "code",
   "execution_count": 3,
   "metadata": {},
   "outputs": [],
   "source": [
    "patent_cpd_links = pickle.load(file=open(\"Data/Patents/patent_cpd_links.p\", \"rb\"))"
   ]
  },
  {
   "cell_type": "code",
   "execution_count": 5,
   "metadata": {},
   "outputs": [
    {
     "name": "stdout",
     "output_type": "stream",
     "text": [
      "[('WO-2013069771-A1', ['SCHEMBL14948774', 'SCHEMBL14948814', 'SCHEMBL14948780', 'SCHEMBL14948825', 'SCHEMBL14948770', 'SCHEMBL14948779', 'SCHEMBL14948837', 'SCHEMBL14948833', 'SCHEMBL14948841', 'SCHEMBL14948781', 'SCHEMBL14948768', 'SCHEMBL14948832', 'SCHEMBL14948838', 'SCHEMBL14948773', 'SCHEMBL14948775', 'SCHEMBL14948777', 'SCHEMBL14948842', 'SCHEMBL14948776', 'SCHEMBL14948831', 'SCHEMBL14948824', 'SCHEMBL14948819', 'SCHEMBL14948828', 'SCHEMBL14948765', 'SCHEMBL14948767', 'SCHEMBL14948820', 'SCHEMBL14948827', 'SCHEMBL14948830', 'SCHEMBL14948766', 'SCHEMBL14948835', 'SCHEMBL14948839', 'SCHEMBL14948769', 'SCHEMBL14948826', 'SCHEMBL14948818', 'SCHEMBL14948843', 'SCHEMBL14948821', 'SCHEMBL14948772', 'SCHEMBL14948834', 'SCHEMBL14948778', 'SCHEMBL14948764', 'SCHEMBL14948771', 'SCHEMBL14948813', 'SCHEMBL14948836', 'SCHEMBL14948840', 'SCHEMBL14948822', 'SCHEMBL675', 'SCHEMBL14948829', 'SCHEMBL14948823']), ('US-5326574-A', ['SCHEMBL762', 'SCHEMBL762', 'SCHEMBL15065', 'SCHEMBL4591', 'SCHEMBL3870', 'SCHEMBL3966', 'SCHEMBL15064', 'SCHEMBL4612', 'SCHEMBL2357386', 'SCHEMBL119404', 'SCHEMBL121846', 'SCHEMBL121846', 'SCHEMBL121846', 'SCHEMBL121846', 'SCHEMBL3816', 'SCHEMBL2591666', 'SCHEMBL1812', 'SCHEMBL13465', 'SCHEMBL119343', 'SCHEMBL119343', 'SCHEMBL119343', 'SCHEMBL119343', 'SCHEMBL764', 'SCHEMBL764', 'SCHEMBL3686', 'SCHEMBL121847', 'SCHEMBL121847', 'SCHEMBL121847', 'SCHEMBL121847', 'SCHEMBL18313', 'SCHEMBL3637', 'SCHEMBL301735', 'SCHEMBL18314', 'SCHEMBL3636', 'SCHEMBL3965', 'SCHEMBL4613', 'SCHEMBL15108', 'SCHEMBL13464', 'SCHEMBL110177', 'SCHEMBL4488']), ('US-7687629-B2', ['SCHEMBL2419850', 'SCHEMBL2421087', 'SCHEMBL2421087', 'SCHEMBL48910', 'SCHEMBL13416509', 'SCHEMBL13416470', 'SCHEMBL12167841', 'SCHEMBL10330767', 'SCHEMBL189', 'SCHEMBL13416507', 'SCHEMBL500472', 'SCHEMBL503', 'SCHEMBL13416472', 'SCHEMBL1950144', 'SCHEMBL13416540', 'SCHEMBL1979', 'SCHEMBL13416525', 'SCHEMBL13416525', 'SCHEMBL13416474', 'SCHEMBL13416502', 'SCHEMBL13416512', 'SCHEMBL1980', 'SCHEMBL13416495', 'SCHEMBL1951704', 'SCHEMBL1951704', 'SCHEMBL1746', 'SCHEMBL896', 'SCHEMBL2418646', 'SCHEMBL13416477', 'SCHEMBL573', 'SCHEMBL2421086', 'SCHEMBL2421086', 'SCHEMBL2418644', 'SCHEMBL13416488', 'SCHEMBL2418648']), ('US-6576689-B2', ['SCHEMBL3977', 'SCHEMBL15245', 'SCHEMBL15458', 'SCHEMBL896', 'SCHEMBL63', 'SCHEMBL16399', 'SCHEMBL4930', 'SCHEMBL19631', 'SCHEMBL15062', 'SCHEMBL15062', 'SCHEMBL15062', 'SCHEMBL24569', 'SCHEMBL14976', 'SCHEMBL15037', 'SCHEMBL15182', 'SCHEMBL27898', 'SCHEMBL122', 'SCHEMBL15711', 'SCHEMBL140727', 'SCHEMBL20680', 'SCHEMBL3887', 'SCHEMBL10736', 'SCHEMBL1146', 'SCHEMBL16002', 'SCHEMBL37317', 'SCHEMBL14969', 'SCHEMBL140876', 'SCHEMBL8366', 'SCHEMBL19157', 'SCHEMBL24902', 'SCHEMBL6044', 'SCHEMBL14861', 'SCHEMBL3114', 'SCHEMBL7198488', 'SCHEMBL15712', 'SCHEMBL636387', 'SCHEMBL94108', 'SCHEMBL49150', 'SCHEMBL94107']), ('EP-1214363-B1', ['SCHEMBL9811', 'SCHEMBL43745'])]\n"
     ]
    }
   ],
   "source": [
    "print(list(patent_cpd_links.items())[0:5])"
   ]
  },
  {
   "cell_type": "code",
   "execution_count": 4,
   "metadata": {},
   "outputs": [],
   "source": [
    "def get_MA(fp):\n",
    "    \"\"\" Get AssemblyGo MA value\n",
    "\n",
    "    Args:\n",
    "        fp (str): filepath to a particular .txt AssemblyGo output file\n",
    "\n",
    "    Returns:\n",
    "        label (str): label of the compound which was analzyed (empty if a failure)\n",
    "        MA (int): assemblyGo MA value (-1 if a failure)\n",
    "    \"\"\"\n",
    "    with open(fp) as f:\n",
    "        lines = f.readlines()\n",
    "\n",
    "    try:\n",
    "        #molfile will be the last element in 0th line\n",
    "        label = lines[0].split()[-1].split(\"/\")[-1].split(\".\")[0]\n",
    "\n",
    "        #MA will be last elemnt in -2nd line (will be an int)\n",
    "        MA = int(lines[-2].split()[-1])\n",
    "\n",
    "        time = float(lines[-1].split()[-1])\n",
    "        \n",
    "        return label, MA, time\n",
    "\n",
    "    except:\n",
    "        return None, None, None"
   ]
  },
  {
   "cell_type": "code",
   "execution_count": 5,
   "metadata": {},
   "outputs": [
    {
     "name": "stderr",
     "output_type": "stream",
     "text": [
      "100%|██████████| 332246/332246 [02:17<00:00, 2424.00it/s]\n"
     ]
    }
   ],
   "source": [
    "fp = \"Data/AssemblyValues/AssigneeCpds_Done/\"\n",
    "MA_values = []\n",
    "for file in tqdm(os.listdir(fp)):\n",
    "    if file.endswith(\".txt\"):\n",
    "        label, MA, time = get_MA(fp + file)\n",
    "        MA_values.append({\n",
    "            \"label\": label,\n",
    "            \"MA_assemblyGo\": MA,\n",
    "            \"time\": time\n",
    "        })\n",
    "\n",
    "MA_df = pd.DataFrame(MA_values)\n",
    "MA_df.to_csv(\"Data/AssemblyValues/assigneeCpds_AssemblyGo.csv\")"
   ]
  },
  {
   "cell_type": "code",
   "execution_count": 6,
   "metadata": {},
   "outputs": [
    {
     "name": "stdout",
     "output_type": "stream",
     "text": [
      "[('SCHEMBL10000057', 10.0), ('SCHEMBL10000065', 8.0), ('SCHEMBL10000069', 12.0), ('SCHEMBL1000007', 19.0), ('SCHEMBL10000081', 16.0)]\n"
     ]
    }
   ],
   "source": [
    "#Link all cpds with MAs\n",
    "cpd_MA_links = dict(zip(MA_df[\"label\"], MA_df[\"MA_assemblyGo\"]))\n",
    "print(list(cpd_MA_links.items())[0:5])"
   ]
  },
  {
   "cell_type": "code",
   "execution_count": 7,
   "metadata": {},
   "outputs": [],
   "source": [
    "def get_MA_values(ids, cpd_MA_links):\n",
    "    \"\"\" Given a list of surechembl cpd ids, return a list of MA values associated with those ids\n",
    "\n",
    "    Args:\n",
    "        ids (list): list of all cpd ids\n",
    "        cpd_MA_links (dict): id:MA dictionary\n",
    "\n",
    "    Returns:\n",
    "        list: list of all corresponding MA values\n",
    "    \"\"\"\n",
    "    MAs = []\n",
    "    for id in ids:\n",
    "        try:\n",
    "            MAs.append(cpd_MA_links[id])\n",
    "        except KeyError:\n",
    "            pass\n",
    "\n",
    "    return MAs"
   ]
  },
  {
   "cell_type": "code",
   "execution_count": 8,
   "metadata": {},
   "outputs": [
    {
     "name": "stderr",
     "output_type": "stream",
     "text": [
      "100%|██████████| 41940/41940 [00:03<00:00, 11255.48it/s]\n"
     ]
    }
   ],
   "source": [
    "patent_MA_links = {}\n",
    "\n",
    "for patent, ids in tqdm(patent_cpd_links.items()):\n",
    "    patent_MA_links[patent] = get_MA_values(ids, cpd_MA_links)"
   ]
  },
  {
   "cell_type": "code",
   "execution_count": 15,
   "metadata": {},
   "outputs": [
    {
     "name": "stdout",
     "output_type": "stream",
     "text": [
      "[('WO-2013069771-A1', [22.0, 21.0, 14.0, 22.0, 10.0, 18.0, 11.0]), ('US-5326574-A', []), ('US-7687629-B2', []), ('US-6576689-B2', []), ('EP-1214363-B1', [])]\n"
     ]
    }
   ],
   "source": [
    "print(list(patent_MA_links.items())[0:5])"
   ]
  },
  {
   "cell_type": "code",
   "execution_count": 9,
   "metadata": {},
   "outputs": [],
   "source": [
    "results_df[\"MAs\"] = results_df[\"ID\"].map(patent_MA_links)"
   ]
  },
  {
   "cell_type": "code",
   "execution_count": 17,
   "metadata": {},
   "outputs": [
    {
     "name": "stdout",
     "output_type": "stream",
     "text": [
      "        Unnamed: 0                ID                author          assignees  \\\n",
      "0                0  US-2016000413-A1         A AMAR OUSAMA        UNIV_BOSTON   \n",
      "1                3  US-2016000413-A1          BIGIO IRVING        UNIV_BOSTON   \n",
      "2                6  US-2016000413-A1         BRIGGS JOHN C        UNIV_BOSTON   \n",
      "3                9  US-2016000413-A1         CHARGIN DAVID        UNIV_BOSTON   \n",
      "4               12  US-2016000413-A1         LEE STEPHANIE        UNIV_BOSTON   \n",
      "...            ...               ...                   ...                ...   \n",
      "373735      907679      US-5361239-A     ZOELLER WILLIAM A   BAKER_HUGHES_INC   \n",
      "373736      907680  US-2021354847-A1        ZWEIG ANDREW M          BOEING_CO   \n",
      "373737      907681     US-9751966-B2        ZWEIG ANDREW M          BOEING_CO   \n",
      "373738      907682      US-4914171-A        ZWEIG ANDREW M  ALLIED_SIGNAL_INC   \n",
      "373739      907683  US-2021009819-A1  ZWEIG ANDREW MICHAEL          BOEING_CO   \n",
      "\n",
      "                                              MAs  \n",
      "0                                             NaN  \n",
      "1                                             NaN  \n",
      "2                                             NaN  \n",
      "3                                             NaN  \n",
      "4                                             NaN  \n",
      "...                                           ...  \n",
      "373735                                        NaN  \n",
      "373736                                        NaN  \n",
      "373737  [9.0, 9.0, 8.0, 9.0, 8.0, 7.0, 9.0, 10.0]  \n",
      "373738                                 [9.0, 9.0]  \n",
      "373739                                        NaN  \n",
      "\n",
      "[373740 rows x 5 columns]\n"
     ]
    }
   ],
   "source": [
    "print(results_df)"
   ]
  },
  {
   "cell_type": "code",
   "execution_count": 32,
   "metadata": {},
   "outputs": [
    {
     "name": "stdout",
     "output_type": "stream",
     "text": [
      "        Unnamed: 0             ID          author          assignees  \\\n",
      "373737      907681  US-9751966-B2  ZWEIG ANDREW M          BOEING_CO   \n",
      "373738      907682   US-4914171-A  ZWEIG ANDREW M  ALLIED_SIGNAL_INC   \n",
      "\n",
      "                                              MAs  MA_avg  \n",
      "373737  [9.0, 9.0, 8.0, 9.0, 8.0, 7.0, 9.0, 10.0]     NaN  \n",
      "373738                                 [9.0, 9.0]     NaN  \n"
     ]
    }
   ],
   "source": [
    "testing_df = results_df[results_df[\"ID\"].isin([\"US-9751966-B2\", \"US-4914171-A\"])]\n",
    "print(testing_df)"
   ]
  },
  {
   "attachments": {},
   "cell_type": "markdown",
   "metadata": {},
   "source": [
    "# Step 3: Statistics over MAs\n",
    "\n",
    "Include dates, avg / max MA"
   ]
  },
  {
   "cell_type": "code",
   "execution_count": 69,
   "metadata": {},
   "outputs": [
    {
     "name": "stdout",
     "output_type": "stream",
     "text": [
      "-----\n",
      "ID\n",
      "US-4914171-A     9.000\n",
      "US-9751966-B2    8.625\n",
      "Name: MAs, dtype: float64\n",
      "<class 'pandas.core.series.Series'>\n",
      "{'US-4914171-A': 9.0, 'US-9751966-B2': 8.625}\n",
      "        Unnamed: 0             ID          author          assignees  \\\n",
      "373737      907681  US-9751966-B2  ZWEIG ANDREW M          BOEING_CO   \n",
      "373738      907682   US-4914171-A  ZWEIG ANDREW M  ALLIED_SIGNAL_INC   \n",
      "\n",
      "                                              MAs  MA_avg  \n",
      "373737  [9.0, 9.0, 8.0, 9.0, 8.0, 7.0, 9.0, 10.0]     NaN  \n",
      "373738                                 [9.0, 9.0]     NaN  \n",
      "        Unnamed: 0             ID          author          assignees  \\\n",
      "373737      907681  US-9751966-B2  ZWEIG ANDREW M          BOEING_CO   \n",
      "373738      907682   US-4914171-A  ZWEIG ANDREW M  ALLIED_SIGNAL_INC   \n",
      "\n",
      "                                              MAs  MA_avg  \n",
      "373737  [9.0, 9.0, 8.0, 9.0, 8.0, 7.0, 9.0, 10.0]   8.625  \n",
      "373738                                 [9.0, 9.0]   9.000  \n"
     ]
    },
    {
     "name": "stderr",
     "output_type": "stream",
     "text": [
      "/var/folders/bx/hv1n_1yj6qv0z_5d3nqlhr5c0000gw/T/ipykernel_10710/3621337915.py:12: SettingWithCopyWarning: \n",
      "A value is trying to be set on a copy of a slice from a DataFrame.\n",
      "Try using .loc[row_indexer,col_indexer] = value instead\n",
      "\n",
      "See the caveats in the documentation: https://pandas.pydata.org/pandas-docs/stable/user_guide/indexing.html#returning-a-view-versus-a-copy\n",
      "  testing_df[\"MA_avg\"] = testing_df[\"ID\"].map(MA_avgs)\n"
     ]
    }
   ],
   "source": [
    "# testing_df[\"MA_avg\"] = testing_df.explode(\"MAs\").groupby(\"ID\").mean()\n",
    "#print(testing_df.explode(\"MAs\").groupby(\"ID\").head())\n",
    "print(\"-----\")\n",
    "MA_avgs = testing_df.explode(\"MAs\").groupby(\"ID\").MAs.apply(np.mean)\n",
    "print(MA_avgs)\n",
    "print(type(MA_avgs))\n",
    "MA_avgs = dict(MA_avgs)\n",
    "print(MA_avgs)\n",
    "\n",
    "print(testing_df)\n",
    "\n",
    "testing_df[\"MA_avg\"] = testing_df[\"ID\"].map(MA_avgs)\n",
    "print(testing_df)"
   ]
  },
  {
   "cell_type": "code",
   "execution_count": 10,
   "metadata": {},
   "outputs": [
    {
     "name": "stdout",
     "output_type": "stream",
     "text": [
      "        Unnamed: 0                ID                author          assignees  \\\n",
      "0                0  US-2016000413-A1         A AMAR OUSAMA        UNIV_BOSTON   \n",
      "1                3  US-2016000413-A1          BIGIO IRVING        UNIV_BOSTON   \n",
      "2                6  US-2016000413-A1         BRIGGS JOHN C        UNIV_BOSTON   \n",
      "3                9  US-2016000413-A1         CHARGIN DAVID        UNIV_BOSTON   \n",
      "4               12  US-2016000413-A1         LEE STEPHANIE        UNIV_BOSTON   \n",
      "...            ...               ...                   ...                ...   \n",
      "373735      907679      US-5361239-A     ZOELLER WILLIAM A   BAKER_HUGHES_INC   \n",
      "373736      907680  US-2021354847-A1        ZWEIG ANDREW M          BOEING_CO   \n",
      "373737      907681     US-9751966-B2        ZWEIG ANDREW M          BOEING_CO   \n",
      "373738      907682      US-4914171-A        ZWEIG ANDREW M  ALLIED_SIGNAL_INC   \n",
      "373739      907683  US-2021009819-A1  ZWEIG ANDREW MICHAEL          BOEING_CO   \n",
      "\n",
      "                                              MAs  MA_avg  \n",
      "0                                             NaN     NaN  \n",
      "1                                             NaN     NaN  \n",
      "2                                             NaN     NaN  \n",
      "3                                             NaN     NaN  \n",
      "4                                             NaN     NaN  \n",
      "...                                           ...     ...  \n",
      "373735                                        NaN     NaN  \n",
      "373736                                        NaN     NaN  \n",
      "373737  [9.0, 9.0, 8.0, 9.0, 8.0, 7.0, 9.0, 10.0]   8.625  \n",
      "373738                                 [9.0, 9.0]   9.000  \n",
      "373739                                        NaN     NaN  \n",
      "\n",
      "[373740 rows x 6 columns]\n"
     ]
    }
   ],
   "source": [
    "## Add avg MA to results_df\n",
    "MA_avgs = results_df.explode(\"MAs\").groupby(\"ID\").MAs.apply(np.mean)\n",
    "MA_avgs = dict(MA_avgs)\n",
    "\n",
    "results_df[\"MA_avg\"] = results_df[\"ID\"].map(MA_avgs)\n",
    "print(results_df)"
   ]
  },
  {
   "cell_type": "code",
   "execution_count": 11,
   "metadata": {},
   "outputs": [],
   "source": [
    "results_df.to_csv(\"Data/Patents/patent_MA_results_incomplete.csv\")"
   ]
  },
  {
   "cell_type": "code",
   "execution_count": null,
   "metadata": {},
   "outputs": [],
   "source": [
    "results_df = pd.read_csv(\"Data/Patents/patent_MA_results_incomplete.csv\")"
   ]
  },
  {
   "cell_type": "code",
   "execution_count": 12,
   "metadata": {},
   "outputs": [
    {
     "name": "stdout",
     "output_type": "stream",
     "text": [
      "        Unnamed: 0              ID             author  \\\n",
      "169            929   US-8440663-B2          AAY NAING   \n",
      "170            947   US-8440663-B2      ARCALAS ARLYN   \n",
      "171            965   US-8440663-B2      BROWN S DAVID   \n",
      "172            983   US-8440663-B2  CHAN WAI KI VICKY   \n",
      "173           1001   US-8440663-B2          CHEN JEFF   \n",
      "...            ...             ...                ...   \n",
      "373699      907631   US-8309497-B1         ZHANG YING   \n",
      "373732      907673  US-10619065-B2     ZHOU ZHANG-LIN   \n",
      "373733      907675  US-10619030-B2     ZHOU ZHANG-LIN   \n",
      "373737      907681   US-9751966-B2     ZWEIG ANDREW M   \n",
      "373738      907682    US-4914171-A     ZWEIG ANDREW M   \n",
      "\n",
      "                             assignees  \\\n",
      "169                       EXELIXIS_INC   \n",
      "170                       EXELIXIS_INC   \n",
      "171                       EXELIXIS_INC   \n",
      "172                       EXELIXIS_INC   \n",
      "173                       EXELIXIS_INC   \n",
      "...                                ...   \n",
      "373699     HALLIBURTON_ENERGY_SERV_INC   \n",
      "373732  HEWLETT_PACKARD_DEVELOPMENT_CO   \n",
      "373733  HEWLETT_PACKARD_DEVELOPMENT_CO   \n",
      "373737                       BOEING_CO   \n",
      "373738               ALLIED_SIGNAL_INC   \n",
      "\n",
      "                                                      MAs     MA_avg  \n",
      "169     [19.0, 22.0, 19.0, 26.0, 19.0, 26.0, 26.0, 26....  22.689034  \n",
      "170     [19.0, 22.0, 19.0, 26.0, 19.0, 26.0, 26.0, 26....  22.689034  \n",
      "171     [19.0, 22.0, 19.0, 26.0, 19.0, 26.0, 26.0, 26....  22.689034  \n",
      "172     [19.0, 22.0, 19.0, 26.0, 19.0, 26.0, 26.0, 26....  22.689034  \n",
      "173     [19.0, 22.0, 19.0, 26.0, 19.0, 26.0, 26.0, 26....  22.689034  \n",
      "...                                                   ...        ...  \n",
      "373699                                              [9.0]   9.000000  \n",
      "373732                           [17.0, 22.0, 17.0, 38.0]  23.500000  \n",
      "373733                                        [5.0, 17.0]  11.000000  \n",
      "373737          [9.0, 9.0, 8.0, 9.0, 8.0, 7.0, 9.0, 10.0]   8.625000  \n",
      "373738                                         [9.0, 9.0]   9.000000  \n",
      "\n",
      "[60031 rows x 6 columns]\n"
     ]
    }
   ],
   "source": [
    "#Drop all NaNs (testing for now)\n",
    "results_df = results_df.dropna()\n",
    "print(results_df)"
   ]
  },
  {
   "attachments": {},
   "cell_type": "markdown",
   "metadata": {},
   "source": [
    "### Add dates to patent MAs\n",
    "\n",
    "Use JSON files & priority dates (instead of filing date or publication date)"
   ]
  },
  {
   "cell_type": "code",
   "execution_count": 13,
   "metadata": {},
   "outputs": [],
   "source": [
    "def get_date_fromJSON(ID):\n",
    "    \"\"\" Find the priority date of a given patent\n",
    "\n",
    "    Args:\n",
    "        ID (str): patent ID\n",
    "\n",
    "    Returns:\n",
    "        str: priority date for a patent\n",
    "    \"\"\"\n",
    "    fp = \"Data/Patents/Patent_Records/patent_\" + ID + \".json\"\n",
    "\n",
    "    try:\n",
    "        data = json.load(open(fp))\n",
    "    except FileNotFoundError as e:\n",
    "        print(e)\n",
    "\n",
    "    #Find specific priority date record\n",
    "    headings = data[\"Record\"][\"Section\"]\n",
    "    for head in headings:\n",
    "        if head[\"TOCHeading\"] == \"Important Dates\":\n",
    "            if head[\"Section\"][0][\"TOCHeading\"] == \"Priority Date\":\n",
    "                return head[\"Section\"][0][\"Information\"][0][\"Value\"][\"DateISO8601\"][0]\n"
   ]
  },
  {
   "cell_type": "code",
   "execution_count": 17,
   "metadata": {},
   "outputs": [],
   "source": [
    "def build_month_increments(start, stop):\n",
    "    \"\"\" Build month increments in the form YYYY-MM\n",
    "\n",
    "    Args:\n",
    "        start (int): Starting year\n",
    "        stop (int): Ending year\n",
    "\n",
    "    Returns:\n",
    "        list: list of strings in the form YYYY-MM (e.g., \"1980-01\")\n",
    "    \"\"\"\n",
    "    months = []\n",
    "    while start <= stop:\n",
    "        for month in [\n",
    "                \"01\", \"02\", \"03\", \"04\", \"05\", \"06\", \"07\", \"08\", \"09\", \"10\",\n",
    "                \"11\", \"12\"\n",
    "        ]:\n",
    "            months.append(str(start) + \"-\" + month)\n",
    "        start += 1\n",
    "\n",
    "    return months"
   ]
  },
  {
   "cell_type": "code",
   "execution_count": 29,
   "metadata": {},
   "outputs": [],
   "source": [
    "def get_date_fromDict(ID, full_patent_dates):\n",
    "    return full_patent_dates[ID]"
   ]
  },
  {
   "cell_type": "code",
   "execution_count": 20,
   "metadata": {},
   "outputs": [
    {
     "name": "stderr",
     "output_type": "stream",
     "text": [
      "100%|██████████| 708/708 [00:05<00:00, 122.30it/s] \n"
     ]
    }
   ],
   "source": [
    "### Building full patent date dictionary - SHOULD ONLY BE RUN ONCE\n",
    "full_patent_dates = {}\n",
    "for month in tqdm(build_month_increments(1962,2020)):\n",
    "    full_patent_dates.update(pickle.load(file=open(\"/Volumes/Macintosh HD 4/SureChemBL/CpdPatentIdsDates/Patent_Date_Dict/patent_date_dict_\" + month + \".p\", \"rb\")))\n",
    "\n",
    "print(len(full_patent_dates))\n",
    "pickle.dump(full_patent_dates, file=open(\"/Volumes/Macintosh HD 4/SureChemBL/CpdPatentIdsDates/Patent_Date_Dict/patent_date_dict_FULL.p\", \"wb\"))"
   ]
  },
  {
   "cell_type": "code",
   "execution_count": 31,
   "metadata": {},
   "outputs": [],
   "source": [
    "full_patent_dates = pickle.load(file=open(\"/Volumes/Macintosh HD 4/SureChemBL/CpdPatentIdsDates/Patent_Date_Dict/patent_date_dict_FULL.p\", \"rb\"))"
   ]
  },
  {
   "cell_type": "code",
   "execution_count": 33,
   "metadata": {},
   "outputs": [
    {
     "name": "stderr",
     "output_type": "stream",
     "text": [
      "100%|██████████| 60031/60031 [00:00<00:00, 260873.98it/s]\n"
     ]
    }
   ],
   "source": [
    "### Add dates to results dataframe\n",
    "tqdm.pandas()\n",
    "\n",
    "results_df[\"date\"] = results_df[\"ID\"].progress_apply(get_date_fromDict, args=(full_patent_dates, ))"
   ]
  },
  {
   "cell_type": "code",
   "execution_count": 42,
   "metadata": {},
   "outputs": [],
   "source": [
    "results_df[\"date\"] = pd.to_datetime(results_df[\"date\"])"
   ]
  },
  {
   "cell_type": "code",
   "execution_count": 43,
   "metadata": {},
   "outputs": [
    {
     "name": "stdout",
     "output_type": "stream",
     "text": [
      "        Unnamed: 0              ID             author  \\\n",
      "169            929   US-8440663-B2          AAY NAING   \n",
      "170            947   US-8440663-B2      ARCALAS ARLYN   \n",
      "171            965   US-8440663-B2      BROWN S DAVID   \n",
      "172            983   US-8440663-B2  CHAN WAI KI VICKY   \n",
      "173           1001   US-8440663-B2          CHEN JEFF   \n",
      "...            ...             ...                ...   \n",
      "373699      907631   US-8309497-B1         ZHANG YING   \n",
      "373732      907673  US-10619065-B2     ZHOU ZHANG-LIN   \n",
      "373733      907675  US-10619030-B2     ZHOU ZHANG-LIN   \n",
      "373737      907681   US-9751966-B2     ZWEIG ANDREW M   \n",
      "373738      907682    US-4914171-A     ZWEIG ANDREW M   \n",
      "\n",
      "                             assignees  \\\n",
      "169                       EXELIXIS_INC   \n",
      "170                       EXELIXIS_INC   \n",
      "171                       EXELIXIS_INC   \n",
      "172                       EXELIXIS_INC   \n",
      "173                       EXELIXIS_INC   \n",
      "...                                ...   \n",
      "373699     HALLIBURTON_ENERGY_SERV_INC   \n",
      "373732  HEWLETT_PACKARD_DEVELOPMENT_CO   \n",
      "373733  HEWLETT_PACKARD_DEVELOPMENT_CO   \n",
      "373737                       BOEING_CO   \n",
      "373738               ALLIED_SIGNAL_INC   \n",
      "\n",
      "                                                      MAs     MA_avg  \\\n",
      "169     [19.0, 22.0, 19.0, 26.0, 19.0, 26.0, 26.0, 26....  22.689034   \n",
      "170     [19.0, 22.0, 19.0, 26.0, 19.0, 26.0, 26.0, 26....  22.689034   \n",
      "171     [19.0, 22.0, 19.0, 26.0, 19.0, 26.0, 26.0, 26....  22.689034   \n",
      "172     [19.0, 22.0, 19.0, 26.0, 19.0, 26.0, 26.0, 26....  22.689034   \n",
      "173     [19.0, 22.0, 19.0, 26.0, 19.0, 26.0, 26.0, 26....  22.689034   \n",
      "...                                                   ...        ...   \n",
      "373699                                              [9.0]   9.000000   \n",
      "373732                           [17.0, 22.0, 17.0, 38.0]  23.500000   \n",
      "373733                                        [5.0, 17.0]  11.000000   \n",
      "373737          [9.0, 9.0, 8.0, 9.0, 8.0, 7.0, 9.0, 10.0]   8.625000   \n",
      "373738                                         [9.0, 9.0]   9.000000   \n",
      "\n",
      "             date  \n",
      "169    2013-05-14  \n",
      "170    2013-05-14  \n",
      "171    2013-05-14  \n",
      "172    2013-05-14  \n",
      "173    2013-05-14  \n",
      "...           ...  \n",
      "373699 2012-11-13  \n",
      "373732 2020-04-14  \n",
      "373733 2020-04-14  \n",
      "373737 2017-09-05  \n",
      "373738 1990-04-03  \n",
      "\n",
      "[60031 rows x 7 columns]\n"
     ]
    }
   ],
   "source": [
    "print(results_df)"
   ]
  },
  {
   "attachments": {},
   "cell_type": "markdown",
   "metadata": {},
   "source": [
    "## Isolate companies, find delta-MA over time\n",
    "\n",
    "Starting full analysis - does the avg MA in companies change over time?"
   ]
  },
  {
   "cell_type": "code",
   "execution_count": 44,
   "metadata": {},
   "outputs": [
    {
     "name": "stdout",
     "output_type": "stream",
     "text": [
      "{Timestamp('2013-05-14 00:00:00'): 22.689034369885434, Timestamp('2011-09-06 00:00:00'): 22.84860557768924, Timestamp('2014-01-28 00:00:00'): 21.692307692307693, Timestamp('2012-12-04 00:00:00'): 16.952380952380953, Timestamp('2012-08-14 00:00:00'): 21.0072202166065, Timestamp('2011-12-13 00:00:00'): 21.004484304932735, Timestamp('2010-04-27 00:00:00'): 18.806122448979593, Timestamp('2014-02-11 00:00:00'): 23.129411764705882, Timestamp('2014-04-15 00:00:00'): 23.91346153846154, Timestamp('2014-02-04 00:00:00'): 17.84722222222222, Timestamp('2013-07-16 00:00:00'): 22.444444444444443, Timestamp('2011-10-25 00:00:00'): 14.31496062992126, Timestamp('2014-11-18 00:00:00'): 25.888349514563107, Timestamp('2020-07-30 00:00:00'): 22.8, Timestamp('2011-07-12 00:00:00'): 17.5625, Timestamp('2020-12-10 00:00:00'): 23.68354430379747, Timestamp('2018-07-31 00:00:00'): 21.357894736842105, Timestamp('2012-04-24 00:00:00'): 25.864503816793892, Timestamp('2011-05-31 00:00:00'): 15.983050847457626, Timestamp('2011-05-25 00:00:00'): 17.18688524590164, Timestamp('2013-02-12 00:00:00'): 19.08421052631579, Timestamp('2011-08-09 00:00:00'): 18.188034188034187, Timestamp('2013-02-05 00:00:00'): 15.581497797356828, Timestamp('2012-07-03 00:00:00'): 21.78423236514523, Timestamp('2019-06-25 00:00:00'): 24.857142857142858, Timestamp('2017-09-06 00:00:00'): 13.055555555555555, Timestamp('2013-06-18 00:00:00'): 11.2, Timestamp('2014-07-29 00:00:00'): 21.829545454545453, Timestamp('2007-09-04 00:00:00'): 19.28048780487805}\n"
     ]
    }
   ],
   "source": [
    "## Testing - start with a single company, get process down, then expand\n",
    "sub_df = results_df[results_df[\"assignees\"] == \"EXELIXIS_INC\"]\n",
    "\n",
    "date_MA = dict(zip(sub_df.date, sub_df.MA_avg))\n",
    "print(date_MA)"
   ]
  },
  {
   "cell_type": "code",
   "execution_count": 46,
   "metadata": {},
   "outputs": [
    {
     "data": {
      "text/plain": [
       "<matplotlib.collections.PathCollection at 0x177794310>"
      ]
     },
     "execution_count": 46,
     "metadata": {},
     "output_type": "execute_result"
    },
    {
     "data": {
      "image/png": "[encoded data removed]",
      "text/plain": [
       "<Figure size 576x576 with 1 Axes>"
      ]
     },
     "metadata": {
      "needs_background": "light"
     },
     "output_type": "display_data"
    }
   ],
   "source": [
    "plt.figure(figsize=(8,8))\n",
    "\n",
    "plt.scatter(date_MA.keys(), date_MA.values())"
   ]
  }
 ],
 "metadata": {
  "kernelspec": {
   "display_name": "Python 3",
   "language": "python",
   "name": "python3"
  },
  "language_info": {
   "codemirror_mode": {
    "name": "ipython",
    "version": 3
   },
   "file_extension": ".py",
   "mimetype": "text/x-python",
   "name": "python",
   "nbconvert_exporter": "python",
   "pygments_lexer": "ipython3",
   "version": "3.9.0"
  },
  "orig_nbformat": 4,
  "vscode": {
   "interpreter": {
    "hash": "aee8b7b246df8f9039afb4144a1f6fd8d2ca17a180786b69acc140d282b71a49"
   }
  }
 },
 "nbformat": 4,
 "nbformat_minor": 2
}

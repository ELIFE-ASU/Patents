{
 "cells": [
  {
   "cell_type": "code",
   "execution_count": 1,
   "metadata": {},
   "outputs": [],
   "source": [
    "import pandas as pd\n",
    "import matplotlib.pyplot as plt\n",
    "import pickle\n",
    "from tqdm import tqdm"
   ]
  },
  {
   "cell_type": "code",
   "execution_count": null,
   "metadata": {},
   "outputs": [],
   "source": [
    "#Matplotlib defaults (eventually)"
   ]
  },
  {
   "attachments": {},
   "cell_type": "markdown",
   "metadata": {},
   "source": [
    "# Step 1: Build data structures\n",
    "\n",
    "See pg 116 in notebook\n",
    "\n",
    "* Dataframe, organized by individual patent-author / patent-assignee combinations (with appropriate tags)\n",
    "    - in Data/Patents/patent_MA_results.csv\n",
    "* Dictionary linking patents to a list of cpds associated with it\n",
    "    - in Data/Patents/patent_cpds_links.p\n",
    "* Dictionary linking patents to a list of MA values associated with it\n",
    "* Dictionary linking patents to classifications"
   ]
  },
  {
   "cell_type": "code",
   "execution_count": 3,
   "metadata": {},
   "outputs": [],
   "source": [
    "## Patent/classification dictionary\n",
    "author_df = pd.read_csv(\"Data/Patents/patent_author_records.csv\")\n",
    "assignee_df = pd.read_csv(\"Data/Patents/patent_assignee_records.csv\")"
   ]
  },
  {
   "cell_type": "code",
   "execution_count": 6,
   "metadata": {},
   "outputs": [
    {
     "name": "stdout",
     "output_type": "stream",
     "text": [
      "744686\n",
      "332467\n",
      "660634\n"
     ]
    }
   ],
   "source": [
    "#Do author/assignees have different patent ids?\n",
    "\n",
    "author_ids = list(set(list(author_df[\"ID\"])))\n",
    "assignee_ids = list(set(list(assignee_df[\"ID\"])))\n",
    "\n",
    "print(len(author_ids))\n",
    "print(len(assignee_ids))\n",
    "\n",
    "print(len(set(author_ids) - set(assignee_ids))) #This should be 0..."
   ]
  },
  {
   "cell_type": "code",
   "execution_count": 7,
   "metadata": {},
   "outputs": [
    {
     "name": "stdout",
     "output_type": "stream",
     "text": [
      "744686\n",
      "993101\n"
     ]
    }
   ],
   "source": [
    "patent_classifications = dict(zip(author_df.ID, author_df.classification))\n",
    "\n",
    "print(len(patent_classifications))\n",
    "\n",
    "patent_classifications.update(dict(zip(assignee_df.ID, assignee_df.classification)))\n",
    "\n",
    "print(len(patent_classifications))\n",
    "\n",
    "# tqdm.pandas()\n",
    "\n",
    "# print(\"----- Author Patents ----- \")\n",
    "# for index, row in tqdm(author_df.iterrows(), total=len(author_df)):\n",
    "#     patent_classifications[row[\"ID\"]] = row[\"classification\"]\n",
    "\n",
    "# print(\"----- Assignee Patents -----\")\n",
    "# for index, row in tqdm(assignee_df.iterrows(), total=len(assignee_df)):\n",
    "#     patent_classifications[row[\"ID\"]] = row[\"classification\"]\n",
    "\n"
   ]
  },
  {
   "cell_type": "code",
   "execution_count": 8,
   "metadata": {},
   "outputs": [],
   "source": [
    "pickle.dump(patent_classifications, file=open(\"Data/Patents/patent_classification_links.p\", \"wb\"))"
   ]
  }
 ],
 "metadata": {
  "kernelspec": {
   "display_name": "Python 3",
   "language": "python",
   "name": "python3"
  },
  "language_info": {
   "codemirror_mode": {
    "name": "ipython",
    "version": 3
   },
   "file_extension": ".py",
   "mimetype": "text/x-python",
   "name": "python",
   "nbconvert_exporter": "python",
   "pygments_lexer": "ipython3",
   "version": "3.9.0"
  },
  "orig_nbformat": 4,
  "vscode": {
   "interpreter": {
    "hash": "aee8b7b246df8f9039afb4144a1f6fd8d2ca17a180786b69acc140d282b71a49"
   }
  }
 },
 "nbformat": 4,
 "nbformat_minor": 2
}

{
 "cells": [
  {
   "cell_type": "code",
   "execution_count": 7,
   "metadata": {},
   "outputs": [],
   "source": [
    "import pandas as pd\n",
    "import matplotlib.pyplot as plt\n",
    "import pickle\n",
    "from tqdm import tqdm\n",
    "import os"
   ]
  },
  {
   "cell_type": "code",
   "execution_count": null,
   "metadata": {},
   "outputs": [],
   "source": [
    "#Matplotlib defaults (eventually)"
   ]
  },
  {
   "attachments": {},
   "cell_type": "markdown",
   "metadata": {},
   "source": [
    "# Step 1: Build data structures\n",
    "\n",
    "See pg 116 in notebook\n",
    "\n",
    "* Dataframe, organized by individual patent-author / patent-assignee combinations (with appropriate tags)\n",
    "    - in Data/Patents/patent_MA_results.csv\n",
    "* Dictionary linking patents to a list of cpds associated with it\n",
    "    - in Data/Patents/patent_cpds_links.p\n",
    "* Dictionary linking patents to a list of MA values associated with it\n",
    "* Dictionary linking patents to classifications"
   ]
  },
  {
   "cell_type": "code",
   "execution_count": 3,
   "metadata": {},
   "outputs": [],
   "source": [
    "## Patent/classification dictionary\n",
    "author_df = pd.read_csv(\"Data/Patents/patent_author_records.csv\")\n",
    "assignee_df = pd.read_csv(\"Data/Patents/patent_assignee_records.csv\")"
   ]
  },
  {
   "cell_type": "code",
   "execution_count": 6,
   "metadata": {},
   "outputs": [
    {
     "name": "stdout",
     "output_type": "stream",
     "text": [
      "744686\n",
      "332467\n",
      "660634\n"
     ]
    }
   ],
   "source": [
    "#Do author/assignees have different patent ids?\n",
    "\n",
    "author_ids = list(set(list(author_df[\"ID\"])))\n",
    "assignee_ids = list(set(list(assignee_df[\"ID\"])))\n",
    "\n",
    "print(len(author_ids))\n",
    "print(len(assignee_ids))\n",
    "\n",
    "print(len(set(author_ids) - set(assignee_ids))) #This should be 0..."
   ]
  },
  {
   "cell_type": "code",
   "execution_count": 7,
   "metadata": {},
   "outputs": [
    {
     "name": "stdout",
     "output_type": "stream",
     "text": [
      "744686\n",
      "993101\n"
     ]
    }
   ],
   "source": [
    "patent_classifications = dict(zip(author_df.ID, author_df.classification))\n",
    "\n",
    "print(len(patent_classifications))\n",
    "\n",
    "patent_classifications.update(dict(zip(assignee_df.ID, assignee_df.classification)))\n",
    "\n",
    "print(len(patent_classifications))\n",
    "\n",
    "# tqdm.pandas()\n",
    "\n",
    "# print(\"----- Author Patents ----- \")\n",
    "# for index, row in tqdm(author_df.iterrows(), total=len(author_df)):\n",
    "#     patent_classifications[row[\"ID\"]] = row[\"classification\"]\n",
    "\n",
    "# print(\"----- Assignee Patents -----\")\n",
    "# for index, row in tqdm(assignee_df.iterrows(), total=len(assignee_df)):\n",
    "#     patent_classifications[row[\"ID\"]] = row[\"classification\"]\n",
    "\n"
   ]
  },
  {
   "cell_type": "code",
   "execution_count": 8,
   "metadata": {},
   "outputs": [],
   "source": [
    "pickle.dump(patent_classifications, file=open(\"Data/Patents/patent_classification_links.p\", \"wb\"))"
   ]
  },
  {
   "attachments": {},
   "cell_type": "markdown",
   "metadata": {},
   "source": [
    "# Step 2: Link MAs with authors/companies\n",
    "\n",
    "(1/9) Currently incomplete - data is still running on agave"
   ]
  },
  {
   "cell_type": "code",
   "execution_count": 2,
   "metadata": {},
   "outputs": [
    {
     "name": "stdout",
     "output_type": "stream",
     "text": [
      "   Unnamed: 0                ID         author    assignees\n",
      "0           0  US-2016000413-A1  A AMAR OUSAMA  UNIV_BOSTON\n",
      "1           3  US-2016000413-A1   BIGIO IRVING  UNIV_BOSTON\n",
      "2           6  US-2016000413-A1  BRIGGS JOHN C  UNIV_BOSTON\n",
      "3           9  US-2016000413-A1  CHARGIN DAVID  UNIV_BOSTON\n",
      "4          12  US-2016000413-A1  LEE STEPHANIE  UNIV_BOSTON\n"
     ]
    }
   ],
   "source": [
    "results_df = pd.read_csv(\"Data/Patents/patent_MA_results.csv\")\n",
    "\n",
    "print(results_df.head())"
   ]
  },
  {
   "cell_type": "code",
   "execution_count": 3,
   "metadata": {},
   "outputs": [],
   "source": [
    "patent_cpd_links = pickle.load(file=open(\"Data/Patents/patent_cpd_links.p\", \"rb\"))"
   ]
  },
  {
   "cell_type": "code",
   "execution_count": 5,
   "metadata": {},
   "outputs": [
    {
     "name": "stdout",
     "output_type": "stream",
     "text": [
      "[('WO-2013069771-A1', ['SCHEMBL14948774', 'SCHEMBL14948814', 'SCHEMBL14948780', 'SCHEMBL14948825', 'SCHEMBL14948770', 'SCHEMBL14948779', 'SCHEMBL14948837', 'SCHEMBL14948833', 'SCHEMBL14948841', 'SCHEMBL14948781', 'SCHEMBL14948768', 'SCHEMBL14948832', 'SCHEMBL14948838', 'SCHEMBL14948773', 'SCHEMBL14948775', 'SCHEMBL14948777', 'SCHEMBL14948842', 'SCHEMBL14948776', 'SCHEMBL14948831', 'SCHEMBL14948824', 'SCHEMBL14948819', 'SCHEMBL14948828', 'SCHEMBL14948765', 'SCHEMBL14948767', 'SCHEMBL14948820', 'SCHEMBL14948827', 'SCHEMBL14948830', 'SCHEMBL14948766', 'SCHEMBL14948835', 'SCHEMBL14948839', 'SCHEMBL14948769', 'SCHEMBL14948826', 'SCHEMBL14948818', 'SCHEMBL14948843', 'SCHEMBL14948821', 'SCHEMBL14948772', 'SCHEMBL14948834', 'SCHEMBL14948778', 'SCHEMBL14948764', 'SCHEMBL14948771', 'SCHEMBL14948813', 'SCHEMBL14948836', 'SCHEMBL14948840', 'SCHEMBL14948822', 'SCHEMBL675', 'SCHEMBL14948829', 'SCHEMBL14948823']), ('US-5326574-A', ['SCHEMBL762', 'SCHEMBL762', 'SCHEMBL15065', 'SCHEMBL4591', 'SCHEMBL3870', 'SCHEMBL3966', 'SCHEMBL15064', 'SCHEMBL4612', 'SCHEMBL2357386', 'SCHEMBL119404', 'SCHEMBL121846', 'SCHEMBL121846', 'SCHEMBL121846', 'SCHEMBL121846', 'SCHEMBL3816', 'SCHEMBL2591666', 'SCHEMBL1812', 'SCHEMBL13465', 'SCHEMBL119343', 'SCHEMBL119343', 'SCHEMBL119343', 'SCHEMBL119343', 'SCHEMBL764', 'SCHEMBL764', 'SCHEMBL3686', 'SCHEMBL121847', 'SCHEMBL121847', 'SCHEMBL121847', 'SCHEMBL121847', 'SCHEMBL18313', 'SCHEMBL3637', 'SCHEMBL301735', 'SCHEMBL18314', 'SCHEMBL3636', 'SCHEMBL3965', 'SCHEMBL4613', 'SCHEMBL15108', 'SCHEMBL13464', 'SCHEMBL110177', 'SCHEMBL4488']), ('US-7687629-B2', ['SCHEMBL2419850', 'SCHEMBL2421087', 'SCHEMBL2421087', 'SCHEMBL48910', 'SCHEMBL13416509', 'SCHEMBL13416470', 'SCHEMBL12167841', 'SCHEMBL10330767', 'SCHEMBL189', 'SCHEMBL13416507', 'SCHEMBL500472', 'SCHEMBL503', 'SCHEMBL13416472', 'SCHEMBL1950144', 'SCHEMBL13416540', 'SCHEMBL1979', 'SCHEMBL13416525', 'SCHEMBL13416525', 'SCHEMBL13416474', 'SCHEMBL13416502', 'SCHEMBL13416512', 'SCHEMBL1980', 'SCHEMBL13416495', 'SCHEMBL1951704', 'SCHEMBL1951704', 'SCHEMBL1746', 'SCHEMBL896', 'SCHEMBL2418646', 'SCHEMBL13416477', 'SCHEMBL573', 'SCHEMBL2421086', 'SCHEMBL2421086', 'SCHEMBL2418644', 'SCHEMBL13416488', 'SCHEMBL2418648']), ('US-6576689-B2', ['SCHEMBL3977', 'SCHEMBL15245', 'SCHEMBL15458', 'SCHEMBL896', 'SCHEMBL63', 'SCHEMBL16399', 'SCHEMBL4930', 'SCHEMBL19631', 'SCHEMBL15062', 'SCHEMBL15062', 'SCHEMBL15062', 'SCHEMBL24569', 'SCHEMBL14976', 'SCHEMBL15037', 'SCHEMBL15182', 'SCHEMBL27898', 'SCHEMBL122', 'SCHEMBL15711', 'SCHEMBL140727', 'SCHEMBL20680', 'SCHEMBL3887', 'SCHEMBL10736', 'SCHEMBL1146', 'SCHEMBL16002', 'SCHEMBL37317', 'SCHEMBL14969', 'SCHEMBL140876', 'SCHEMBL8366', 'SCHEMBL19157', 'SCHEMBL24902', 'SCHEMBL6044', 'SCHEMBL14861', 'SCHEMBL3114', 'SCHEMBL7198488', 'SCHEMBL15712', 'SCHEMBL636387', 'SCHEMBL94108', 'SCHEMBL49150', 'SCHEMBL94107']), ('EP-1214363-B1', ['SCHEMBL9811', 'SCHEMBL43745'])]\n"
     ]
    }
   ],
   "source": [
    "print(list(patent_cpd_links.items())[0:5])"
   ]
  },
  {
   "cell_type": "code",
   "execution_count": 6,
   "metadata": {},
   "outputs": [],
   "source": [
    "def get_MA(fp):\n",
    "    \"\"\" Get AssemblyGo MA value\n",
    "\n",
    "    Args:\n",
    "        fp (str): filepath to a particular .txt AssemblyGo output file\n",
    "\n",
    "    Returns:\n",
    "        label (str): label of the compound which was analzyed (empty if a failure)\n",
    "        MA (int): assemblyGo MA value (-1 if a failure)\n",
    "    \"\"\"\n",
    "    with open(fp) as f:\n",
    "        lines = f.readlines()\n",
    "\n",
    "    try:\n",
    "        #molfile will be the last element in 0th line\n",
    "        label = lines[0].split()[-1].split(\"/\")[-1].split(\".\")[0]\n",
    "\n",
    "        #MA will be last elemnt in -2nd line (will be an int)\n",
    "        MA = int(lines[-2].split()[-1])\n",
    "\n",
    "        time = float(lines[-1].split()[-1])\n",
    "        \n",
    "        return label, MA, time\n",
    "\n",
    "    except:\n",
    "        return None, None, None"
   ]
  },
  {
   "cell_type": "code",
   "execution_count": null,
   "metadata": {},
   "outputs": [],
   "source": [
    "fp = \"Data/AssemblyValues/AssigneeCpds_Done/\"\n",
    "MA_values = []\n",
    "for file in tqdm(os.listdir(fp)):\n",
    "    if file.endswith(\".txt\"):\n",
    "        label, MA, time = get_MA(fp + file)\n",
    "        MA_values.append({\n",
    "            \"label\": label,\n",
    "            \"MA_assemblyGo\": MA,\n",
    "            \"time\": time\n",
    "        })\n",
    "\n",
    "MA_df = pd.DataFrame(MA_values)\n",
    "MA_df.to_csv(\"Data/AssemblyValues/assigneeCpds_AssemblyGo.csv\")"
   ]
  },
  {
   "cell_type": "code",
   "execution_count": null,
   "metadata": {},
   "outputs": [],
   "source": [
    "cpd_MA_links = dict(zip(MA_df[\"label\"], MA_df[\"MA_assemblyGo\"]))\n",
    "print(list(cpd_MA_links.items())[0:5])"
   ]
  }
 ],
 "metadata": {
  "kernelspec": {
   "display_name": "Python 3",
   "language": "python",
   "name": "python3"
  },
  "language_info": {
   "codemirror_mode": {
    "name": "ipython",
    "version": 3
   },
   "file_extension": ".py",
   "mimetype": "text/x-python",
   "name": "python",
   "nbconvert_exporter": "python",
   "pygments_lexer": "ipython3",
   "version": "3.9.0"
  },
  "orig_nbformat": 4,
  "vscode": {
   "interpreter": {
    "hash": "aee8b7b246df8f9039afb4144a1f6fd8d2ca17a180786b69acc140d282b71a49"
   }
  }
 },
 "nbformat": 4,
 "nbformat_minor": 2
}

{
 "cells": [
  {
   "cell_type": "code",
   "execution_count": 11,
   "metadata": {},
   "outputs": [],
   "source": [
    "import random\n",
    "import pandas as pd\n",
    "import numpy as np\n"
   ]
  },
  {
   "cell_type": "markdown",
   "metadata": {},
   "source": [
    "# Analyze Cost of Chemical Space (with MA)"
   ]
  },
  {
   "cell_type": "markdown",
   "metadata": {},
   "source": [
    "## Step 1: Sample from cost of chemical space\n",
    "\n",
    "Both randomly & uniformly across price ranges"
   ]
  },
  {
   "cell_type": "code",
   "execution_count": 28,
   "metadata": {},
   "outputs": [
    {
     "name": "stdout",
     "output_type": "stream",
     "text": [
      "           CAS  price                                               name  \\\n",
      "0  733030-83-6  109.3  2-(2-ethoxy-4-formylphenoxy)-N,N-dimethylpropa...   \n",
      "1    7493-98-3   26.1      [(4-amino-3-bromophenyl)sulfanyl]formonitrile   \n",
      "2  522598-07-8  104.8  5-[2-(4-methylphenyl)quinolin-4-yl]-4-(prop-2-...   \n",
      "3  361150-39-2  128.3  methyl 3-butyl-4-oxo-2-sulfanyl-3,4-dihydroqui...   \n",
      "4  721915-98-6  104.8  methyl 2-(1,4-dioxo-1,2,3,4-tetrahydrophthalaz...   \n",
      "\n",
      "  supplier  reaxys_id  n_references  as_reagent  as_product  \\\n",
      "0  enamine         -1            -1          -1          -1   \n",
      "1  enamine    2804471            12           1           6   \n",
      "2  enamine         -1            -1          -1          -1   \n",
      "3  enamine         -1            -1          -1          -1   \n",
      "4  enamine         -1            -1          -1          -1   \n",
      "\n",
      "                                        smiles  \n",
      "0              CCOc1cc(C=O)ccc1OC(C)C(=O)N(C)C  \n",
      "1                          N#CSc1ccc(N)c(Br)c1  \n",
      "2  C=CCn1c(S)nnc1-c1cc(-c2ccc(C)cc2)nc2ccccc12  \n",
      "3             CCCCn1c(S)nc2cc(C(=O)OC)ccc2c1=O  \n",
      "4              COC(=O)Cn1[nH]c(=O)c2ccccc2c1=O  \n"
     ]
    }
   ],
   "source": [
    "# Read in data (in Orkney)\n",
    "cost_df = pd.read_csv(\"U:\\\\Cost_of_chemical_space\\\\reaxys_database\\\\purchasable.csv\")\n",
    "\n",
    "print(cost_df.head())"
   ]
  },
  {
   "cell_type": "code",
   "execution_count": 5,
   "metadata": {},
   "outputs": [],
   "source": [
    "## Random sample (50k)\n",
    "\n",
    "random_df = cost_df.sample(n=50000)\n",
    "\n",
    "random_df.to_csv(\"Data/Cost/random_cost_50k.csv\")"
   ]
  },
  {
   "cell_type": "code",
   "execution_count": 29,
   "metadata": {},
   "outputs": [],
   "source": [
    "## Uniform sampling over percentiles\n",
    "labels = list(range(1,101,2))\n",
    "cost_df[\"percentile\"] = pd.qcut(cost_df.price, q=50, duplicates=\"drop\", labels=labels)\n"
   ]
  },
  {
   "cell_type": "code",
   "execution_count": 32,
   "metadata": {},
   "outputs": [
    {
     "name": "stdout",
     "output_type": "stream",
     "text": [
      "                 CAS         price  \\\n",
      "282683    65100-04-1      2.224000   \n",
      "28490     18595-14-7      2.600000   \n",
      "254038     4515-21-3      1.862600   \n",
      "255848      108-24-7      0.015346   \n",
      "196580     2832-45-3      2.600000   \n",
      "...              ...           ...   \n",
      "163096   831249-87-7   7290.000000   \n",
      "323199   660846-41-3  24019.200000   \n",
      "95359            NaN  23790.000000   \n",
      "191061  2092468-21-6   9180.000000   \n",
      "328199     5205-34-5  24742.000000   \n",
      "\n",
      "                                                     name    supplier  \\\n",
      "282683           3-Methacryloxypropylmethyldiethoxysilane  fluorochem   \n",
      "28490                     methyl 4-amino-3-methylbenzoate     enamine   \n",
      "254038          N-Benzyloxycarbonyl-DL-aspartic acid, 95%        alfa   \n",
      "255848                             Acetic anhydride, 99+%        alfa   \n",
      "196580                          sodium hexane-1-sulfonate     enamine   \n",
      "...                                                   ...         ...   \n",
      "163096  (2-chloro-4-nitrophenyl)methyl 3-(3-hydroxyqui...     enamine   \n",
      "323199                             GW542573X >= 98 % HPLC       sigma   \n",
      "95359   (3S,6R)-3-benzyl-6-(hydroxymethyl)piperazine-2...     enamine   \n",
      "191061  6-(pentafluoro-lambda6-sulfanyl)-1,3-benzothia...     enamine   \n",
      "328199                                          5-Decanol         tci   \n",
      "\n",
      "        reaxys_id  n_references  as_reagent  as_product  \\\n",
      "282683         -1            -1          -1          -1   \n",
      "28490     2830706           123         608           5   \n",
      "254038    2336721            34          20           2   \n",
      "255848         -1            -1          -1          -1   \n",
      "196580    3727014           198          24           9   \n",
      "...           ...           ...         ...         ...   \n",
      "163096         -1            -1          -1          -1   \n",
      "323199   12288040             5           1           2   \n",
      "95359          -1            -1          -1          -1   \n",
      "191061   33622591             3           0           1   \n",
      "328199    1735187            80          25          34   \n",
      "\n",
      "                                                  smiles percentile  \n",
      "282683                    C=C(C)C(=O)OCCC[Si](C)(OCC)OCC          1  \n",
      "28490                              COC(=O)c1ccc(N)c(C)c1          1  \n",
      "254038                  O=C(O)CC(NC(=O)OCc1ccccc1)C(=O)O          1  \n",
      "255848                                     CC(=O)OC(C)=O          1  \n",
      "196580                         CCCCCCS(=O)(=O)[O-].[Na+]          1  \n",
      "...                                                  ...        ...  \n",
      "163096  O=C(CCc1nc2ccccc2nc1O)OCc1ccc([N+](=O)[O-])cc1Cl         99  \n",
      "323199        COc1ccccc1NC(=O)OCC1CCN(C(=O)OC(C)(C)C)CC1         99  \n",
      "95359                O=C1N[C@H](CO)C(=O)N[C@H]1Cc1ccccc1         99  \n",
      "191061                    Nc1nc2ccc(S(F)(F)(F)(F)F)cc2s1         99  \n",
      "328199                                     CCCCCC(O)CCCC         99  \n",
      "\n",
      "[50000 rows x 10 columns]\n"
     ]
    }
   ],
   "source": [
    "#Randomly sample 1000 from each percentile\n",
    "random_df = pd.concat([cost_df[cost_df[\"percentile\"] == label].sample(1000) for label in labels])\n",
    "\n",
    "print(random_df)\n",
    "\n",
    "random_df.to_csv(\"Data/Cost/random_cost_percentiles_50k.csv\")"
   ]
  }
 ],
 "metadata": {
  "kernelspec": {
   "display_name": "Python 3.9.12 ('base')",
   "language": "python",
   "name": "python3"
  },
  "language_info": {
   "codemirror_mode": {
    "name": "ipython",
    "version": 3
   },
   "file_extension": ".py",
   "mimetype": "text/x-python",
   "name": "python",
   "nbconvert_exporter": "python",
   "pygments_lexer": "ipython3",
   "version": "3.9.12"
  },
  "orig_nbformat": 4,
  "vscode": {
   "interpreter": {
    "hash": "b6d33183bcf47bf2749a1bb5bc5cecc0497fbf4071239c16ea842776928851e7"
   }
  }
 },
 "nbformat": 4,
 "nbformat_minor": 2
}

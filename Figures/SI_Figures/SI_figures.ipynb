{
 "cells": [
  {
   "cell_type": "code",
   "execution_count": 6,
   "metadata": {},
   "outputs": [],
   "source": [
    "import pandas as pd\n",
    "import pickle"
   ]
  },
  {
   "cell_type": "markdown",
   "metadata": {},
   "source": [
    "## Figure 1\n",
    "\n",
    "Compounds per month (total & novel)"
   ]
  },
  {
   "cell_type": "code",
   "execution_count": 5,
   "metadata": {},
   "outputs": [
    {
     "name": "stdout",
     "output_type": "stream",
     "text": [
      "     Unnamed: 0  Unnamed: 0.1     Nodes      Edges  Cpd Nodes  Patent Nodes  \\\n",
      "0             0             0   5177987     353266      41794       5136193   \n",
      "1             0             0   5189241     482418      53048       5136193   \n",
      "2             0             0   5205466     695940      69273       5136193   \n",
      "3             0             0   5226781    1089484      90588       5136193   \n",
      "4             0             0   5248174    1406193     111981       5136193   \n",
      "..          ...           ...       ...        ...        ...           ...   \n",
      "559           0             0  26472604  321481904   21336411       5136193   \n",
      "560           0             0  26493898  321753127   21357705       5136193   \n",
      "561           0             0  26513193  321920447   21377000       5136193   \n",
      "562           0             0  26531281  322154733   21395088       5136193   \n",
      "563           0             0  26632776  323818990   21496583       5136193   \n",
      "\n",
      "     Avg Degree  Cpd Avg Degree  Patent Avg Degree  LCC Size    month  \n",
      "0      0.136449        8.452553           0.068780    150356  1976-01  \n",
      "1      0.185930        9.093990           0.093925    212702  1976-02  \n",
      "2      0.267388       10.046338           0.135497    323555  1976-03  \n",
      "3      0.416885       12.026803           0.212119    543397  1976-04  \n",
      "4      0.535879       12.557425           0.273781    707481  1976-05  \n",
      "..          ...             ...                ...       ...      ...  \n",
      "559   24.287894       15.067291          62.591477  25137203  2022-08  \n",
      "560   24.288848       15.064967          62.644283  25157354  2022-09  \n",
      "561   24.283793       15.059197          62.676859  25175558  2022-10  \n",
      "562   24.284898       15.057416          62.722474  25192857  2022-11  \n",
      "563   24.317329       15.063742          63.046500  25289667  2022-12  \n",
      "\n",
      "[564 rows x 11 columns]\n"
     ]
    }
   ],
   "source": [
    "df = pd.read_csv(\"../../Data/NetworkStats/networkStats_byMonth_updated.csv\")\n",
    "print(df)\n",
    "new_cpd_count = pickle.load(open(\"../Data/NetworkStats/new_cpd_count.p\", \"rb\"))\n"
   ]
  },
  {
   "cell_type": "code",
   "execution_count": 7,
   "metadata": {},
   "outputs": [],
   "source": [
    "def find_monthlyCpd_count(cpd_nodes):\n",
    "    new_cpd_count = [0]\n",
    "    for i in range(1, len(cpd_nodes)):\n",
    "        new_cpd_count.append(cpd_nodes[i] - cpd_nodes[i-1])\n",
    "    return new_cpd_count"
   ]
  },
  {
   "cell_type": "code",
   "execution_count": null,
   "metadata": {},
   "outputs": [],
   "source": [
    "df[\"Month Cpd Count\"]"
   ]
  }
 ],
 "metadata": {
  "kernelspec": {
   "display_name": "my-rdkit-env",
   "language": "python",
   "name": "python3"
  },
  "language_info": {
   "codemirror_mode": {
    "name": "ipython",
    "version": 3
   },
   "file_extension": ".py",
   "mimetype": "text/x-python",
   "name": "python",
   "nbconvert_exporter": "python",
   "pygments_lexer": "ipython3",
   "version": "3.7.10"
  }
 },
 "nbformat": 4,
 "nbformat_minor": 2
}

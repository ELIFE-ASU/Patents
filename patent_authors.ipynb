{
 "cells": [
  {
   "cell_type": "code",
   "execution_count": 4,
   "metadata": {},
   "outputs": [],
   "source": [
    "import pickle\n",
    "import random"
   ]
  },
  {
   "cell_type": "markdown",
   "metadata": {},
   "source": [
    "# Goal: Analyze MA change by authors\n",
    "\n",
    "First test: sample patents, then authors, then all patents (& therefore compounds) made by authors"
   ]
  },
  {
   "cell_type": "markdown",
   "metadata": {},
   "source": [
    "## Testing on Nov 2020 unique patents"
   ]
  },
  {
   "cell_type": "code",
   "execution_count": 5,
   "metadata": {},
   "outputs": [
    {
     "name": "stdout",
     "output_type": "stream",
     "text": [
      "['US-10821293-B2', 'WO-2020237223-A1', 'EP-2981258-B8', 'US-10836113-B2', 'US-20200369598-A1', 'US-10829892-B2', 'US-20200363418-A1', 'EP-3355706-B1', 'US-10822514-B2', 'EP-3733775-A1']\n"
     ]
    }
   ],
   "source": [
    "#Read in unique patents from Nov 2020\n",
    "data = pickle.load(file=open(\"Data/CpdPatentIdsDates/unique_patents_2020-11.p\", \"rb\"))\n",
    "\n",
    "print(data[0:10])"
   ]
  },
  {
   "cell_type": "code",
   "execution_count": 6,
   "metadata": {},
   "outputs": [
    {
     "name": "stdout",
     "output_type": "stream",
     "text": [
      "['EP-3424930-B1', 'EP-3465118-B1', 'WO-2020237203-A1', 'WO-2020222665-A1', 'US-20200353127-A1', 'EP-3577171-B1', 'WO-2020235978-A1', 'US-20200367854-A1', 'EP-3397620-B1', 'EP-3589620-B1']\n"
     ]
    }
   ],
   "source": [
    "#Sample 10 random patents - will be manually searched on pubchem\n",
    "test = random.sample(data, 10)\n",
    "print(test)"
   ]
  }
 ],
 "metadata": {
  "kernelspec": {
   "display_name": "Python 3.9.5 64-bit",
   "language": "python",
   "name": "python3"
  },
  "language_info": {
   "codemirror_mode": {
    "name": "ipython",
    "version": 3
   },
   "file_extension": ".py",
   "mimetype": "text/x-python",
   "name": "python",
   "nbconvert_exporter": "python",
   "pygments_lexer": "ipython3",
   "version": "3.9.5"
  },
  "orig_nbformat": 4,
  "vscode": {
   "interpreter": {
    "hash": "aee8b7b246df8f9039afb4144a1f6fd8d2ca17a180786b69acc140d282b71a49"
   }
  }
 },
 "nbformat": 4,
 "nbformat_minor": 2
}

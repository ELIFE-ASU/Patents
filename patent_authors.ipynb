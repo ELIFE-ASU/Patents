{
 "cells": [
  {
   "cell_type": "code",
   "execution_count": 1,
   "metadata": {},
   "outputs": [],
   "source": [
    "import pickle\n",
    "import random\n",
    "import urllib\n",
    "import time\n",
    "import json\n",
    "import pandas as pd\n",
    "import os\n",
    "from tqdm import tqdm"
   ]
  },
  {
   "cell_type": "markdown",
   "metadata": {},
   "source": [
    "# Goal: Analyze MA change by authors\n",
    "\n",
    "First test: sample patents, then authors, then all patents (& therefore compounds) made by authors"
   ]
  },
  {
   "attachments": {},
   "cell_type": "markdown",
   "metadata": {},
   "source": [
    "## Find Authors & Assignees\n",
    "\n",
    "From JSON files, find all authors & assignees"
   ]
  },
  {
   "cell_type": "code",
   "execution_count": 78,
   "metadata": {},
   "outputs": [],
   "source": [
    "def get_authors_and_assignees(data):\n",
    "    \"\"\" Use the Pubchem-downloaded patent JSON files to get all authors & assignees \n",
    "\n",
    "    Args:\n",
    "        data (json dict): dictionary of patent JSON records\n",
    "    \"\"\"\n",
    "    inventor_dict = [x for x in data[\"Record\"][\"Section\"] if x[\"TOCHeading\"] == \"Inventor\"][0][\"Information\"][0][\"Value\"][\"StringWithMarkup\"]\n",
    "    authors = [x[\"String\"] for x in inventor_dict]\n",
    "    \n",
    "    assignee_dict = [x for x in data[\"Record\"][\"Section\"] if x[\"TOCHeading\"] == \"Assignee\"][0][\"Information\"][0][\"Value\"][\"StringWithMarkup\"]\n",
    "    assignees = [x[\"String\"] for x in assignee_dict]\n",
    "\n",
    "    return authors, assignees\n"
   ]
  },
  {
   "cell_type": "code",
   "execution_count": 82,
   "metadata": {},
   "outputs": [
    {
     "name": "stderr",
     "output_type": "stream",
     "text": [
      "100%|██████████| 74/74 [00:00<00:00, 1113.23it/s]\n"
     ]
    }
   ],
   "source": [
    "## Get info from all patents in the Data/Patents directory\n",
    "fp = \"Data/Patents/\"\n",
    "files = os.listdir(fp)\n",
    "authors = []\n",
    "assignees = []\n",
    "\n",
    "for file in tqdm(files):\n",
    "\n",
    "    data = json.load(open(fp + file))\n",
    "\n",
    "    new_authors, new_assignees = get_authors_and_assignees(data)\n",
    "\n",
    "    authors.extend(new_authors)\n",
    "    assignees.extend(new_assignees)\n"
   ]
  },
  {
   "cell_type": "code",
   "execution_count": null,
   "metadata": {},
   "outputs": [],
   "source": [
    "#Remove duplicates (if present) and save\n",
    "authors = list(set(authors))\n",
    "assignees = list(set(assignees))\n",
    "\n",
    "pickle.dump(authors, file=open(\"Data/Patents/authors.p\", \"wb\"))\n",
    "pickle.dump(assignees, file=open(\"Data/Patents/assignees.p\", \"wb\"))"
   ]
  },
  {
   "attachments": {},
   "cell_type": "markdown",
   "metadata": {},
   "source": [
    "## Find patent ids associated with authors\n",
    "\n",
    "Scraped patents associated with authors - see *patent_scraping.py*, now I want to\n",
    "find all patents (and eventually compounds) associated with each author"
   ]
  },
  {
   "cell_type": "code",
   "execution_count": 5,
   "metadata": {},
   "outputs": [
    {
     "name": "stderr",
     "output_type": "stream",
     "text": [
      "100%|██████████| 21947/21947 [14:30<00:00, 25.22it/s]  \n"
     ]
    },
    {
     "name": "stdout",
     "output_type": "stream",
     "text": [
      "                       ID                         author  \\\n",
      "0           US-8653233-B2  HOLLINGSWORTH MICHAEL ANTHONY   \n",
      "1           US-8653233-B2                  KOHLGRAF KARL   \n",
      "2           US-8653233-B2                    CAFFREY TOM   \n",
      "3        US-2011312290-A1                 BEELER MICHAEL   \n",
      "4        US-2011312290-A1   CANNON RICHARD HOLLINGSWORTH   \n",
      "...                   ...                            ...   \n",
      "7056907     US-8663196-B2          ZYZELEWSKI MARK EDWIN   \n",
      "7056908     US-9610166-B2              GUNTHER STEPHEN B   \n",
      "7056909     US-9610166-B2              O'FARRELL DESMOND   \n",
      "7056910     US-9610166-B2          ZYZELEWSKI MARK EDWIN   \n",
      "7056911     US-9610166-B2         RODENHOUSE ANDREW JOHN   \n",
      "\n",
      "                                       assignees  \\\n",
      "0                     [UNIV NEBRASKA MEDICAL CT]   \n",
      "1                     [UNIV NEBRASKA MEDICAL CT]   \n",
      "2                     [UNIV NEBRASKA MEDICAL CT]   \n",
      "3                         [COMTECH EF DATA CORP]   \n",
      "4                         [COMTECH EF DATA CORP]   \n",
      "...                                          ...   \n",
      "7056907  [KASSAB KUGHN ENDOVASCULAR DEVICES LLC]   \n",
      "7056908               [SHOULDER INNOVATIONS LLC]   \n",
      "7056909               [SHOULDER INNOVATIONS LLC]   \n",
      "7056910               [SHOULDER INNOVATIONS LLC]   \n",
      "7056911               [SHOULDER INNOVATIONS LLC]   \n",
      "\n",
      "                                            classification  \n",
      "0                                   [A61K38/00, A61K38/17]  \n",
      "1                                   [A61K38/00, A61K38/17]  \n",
      "2                                   [A61K38/00, A61K38/17]  \n",
      "3                                     [H04B1/04, H04B1/10]  \n",
      "4                                     [H04B1/04, H04B1/10]  \n",
      "...                                                    ...  \n",
      "7056907                             [A61M25/00, A61M25/06]  \n",
      "7056908  [A61B17/00, A61B17/15, A61B17/16, A61B17/86, A...  \n",
      "7056909  [A61B17/00, A61B17/15, A61B17/16, A61B17/86, A...  \n",
      "7056910  [A61B17/00, A61B17/15, A61B17/16, A61B17/86, A...  \n",
      "7056911  [A61B17/00, A61B17/15, A61B17/16, A61B17/86, A...  \n",
      "\n",
      "[7056912 rows x 4 columns]\n"
     ]
    }
   ],
   "source": [
    "## Getting patent IDs from all JSON author files\n",
    "full_data = []\n",
    "\n",
    "fp = \"Data/Patents/Patent_Author_Records/\"\n",
    "files = os.listdir(fp)\n",
    "\n",
    "patent_data = []\n",
    "\n",
    "for f in tqdm(files):\n",
    "    try:\n",
    "        data = json.load(open(file=fp + f))\n",
    "    except ValueError:\n",
    "        data = [] \n",
    "\n",
    "    for patent in data:\n",
    "        if \"inventors\" in patent:\n",
    "            inventors = patent[\"inventors\"]\n",
    "            #Get all authors (in list form)\n",
    "            if type(inventors) != list:\n",
    "                authors = []\n",
    "                authors.append(inventors)\n",
    "            else:\n",
    "                authors = inventors\n",
    "        else:\n",
    "            authors = [\"\"]\n",
    "        \n",
    "        #Get assignees which are not part of author list (meant to find only businesses/universities/other)\n",
    "        if \"assignees\" in patent:\n",
    "            a = patent[\"assignees\"]\n",
    "            if type(a) != list:\n",
    "                assignees = []\n",
    "                assignees.append(a)\n",
    "            else:\n",
    "                assignees = a\n",
    "\n",
    "            assignees = list(set(assignees) - set(authors))\n",
    "        else:\n",
    "            assignees = \"\"\n",
    "\n",
    "        if \"classification\" in patent:\n",
    "            classification = patent[\"classification\"]\n",
    "        else:\n",
    "            classification = \"\"\n",
    "    \n",
    "        for author in authors:\n",
    "            patent_data.append({\"ID\": patent[\"publicationnumber\"], \"author\": author, \"assignees\": assignees,\n",
    "                \"classification\": classification})\n",
    "\n",
    "    \n",
    "df = pd.DataFrame.from_dict(patent_data)\n",
    "print(df)\n"
   ]
  },
  {
   "cell_type": "code",
   "execution_count": 6,
   "metadata": {},
   "outputs": [],
   "source": [
    "df.to_csv(\"Data/Patents/patent_author_records.csv\")"
   ]
  },
  {
   "cell_type": "markdown",
   "metadata": {},
   "source": [
    "## Linking patent IDs to compounds: testing"
   ]
  },
  {
   "cell_type": "code",
   "execution_count": 14,
   "metadata": {},
   "outputs": [
    {
     "name": "stdout",
     "output_type": "stream",
     "text": [
      "[('US-4181664-A', ['SCHEMBL1812', 'SCHEMBL2454118', 'SCHEMBL11454132', 'SCHEMBL11470144', 'SCHEMBL11472968', 'SCHEMBL11455057', 'SCHEMBL1816', 'SCHEMBL11476626', 'SCHEMBL11472939', 'SCHEMBL11470688', 'SCHEMBL11462969', 'SCHEMBL11452721', 'SCHEMBL10498831', 'SCHEMBL10940552', 'SCHEMBL9458455', 'SCHEMBL1009808', 'SCHEMBL11483372', 'SCHEMBL11467835', 'SCHEMBL11454317', 'SCHEMBL120896', 'SCHEMBL1247', 'SCHEMBL11454025', 'SCHEMBL11454227', 'SCHEMBL11471395', 'SCHEMBL1967', 'SCHEMBL11476624', 'SCHEMBL10564539', 'SCHEMBL11471592', 'SCHEMBL9489027', 'SCHEMBL11481038', 'SCHEMBL11467833', 'SCHEMBL11475722', 'SCHEMBL2262', 'SCHEMBL11454052', 'SCHEMBL11462594', 'SCHEMBL11460770', 'SCHEMBL1798', 'SCHEMBL11085564', 'SCHEMBL25158', 'SCHEMBL11481104', 'SCHEMBL11453131', 'SCHEMBL11467831', 'SCHEMBL11470679', 'SCHEMBL11470687', 'SCHEMBL11454040', 'SCHEMBL9096638', 'SCHEMBL1586', 'SCHEMBL393249', 'SCHEMBL6966505', 'SCHEMBL9807176', 'SCHEMBL10699570', 'SCHEMBL11451896', 'SCHEMBL11462970', 'SCHEMBL11472941', 'SCHEMBL1499381', 'SCHEMBL11467452', 'SCHEMBL1259', 'SCHEMBL11468769', 'SCHEMBL6960516', 'SCHEMBL1044835', 'SCHEMBL11454049', 'SCHEMBL10434682', 'SCHEMBL6968975', 'SCHEMBL11469629', 'SCHEMBL11470146', 'SCHEMBL283639', 'SCHEMBL11453961', 'SCHEMBL11477212', 'SCHEMBL15458', 'SCHEMBL34', 'SCHEMBL34', 'SCHEMBL215763', 'SCHEMBL17836', 'SCHEMBL8169713', 'SCHEMBL11454130', 'SCHEMBL11480518', 'SCHEMBL11470669', 'SCHEMBL11467281', 'SCHEMBL7469279', 'SCHEMBL11451895', 'SCHEMBL11452720', 'SCHEMBL11471593', 'SCHEMBL1241', 'SCHEMBL1071609', 'SCHEMBL11465084', 'SCHEMBL11085562', 'SCHEMBL11471394', 'SCHEMBL11469530', 'SCHEMBL11477211', 'SCHEMBL11472945', 'SCHEMBL11470405', 'SCHEMBL1353', 'SCHEMBL641759', 'SCHEMBL11454051', 'SCHEMBL11468331', 'SCHEMBL573', 'SCHEMBL11471974', 'SCHEMBL573', 'SCHEMBL11454131', 'SCHEMBL11453962', 'SCHEMBL11480971', 'SCHEMBL11468313', 'SCHEMBL11480562', 'SCHEMBL11454024', 'SCHEMBL11454318', 'SCHEMBL11477063', 'SCHEMBL1296', 'SCHEMBL11462593', 'SCHEMBL11460771', 'SCHEMBL11453130', 'SCHEMBL7413', 'SCHEMBL11471613', 'SCHEMBL9705116', 'SCHEMBL10551521', 'SCHEMBL11477197', 'SCHEMBL1430822', 'SCHEMBL11468317', 'SCHEMBL1414', 'SCHEMBL2457986', 'SCHEMBL11454319', 'SCHEMBL11454252', 'SCHEMBL11454253', 'SCHEMBL29364']), ('US-4181734-A', ['SCHEMBL675157', 'SCHEMBL80292', 'SCHEMBL15111', 'SCHEMBL11467752', 'SCHEMBL675158', 'SCHEMBL10784476', 'SCHEMBL16226', 'SCHEMBL22722', 'SCHEMBL36992', 'SCHEMBL15134', 'SCHEMBL15112', 'SCHEMBL19157', 'SCHEMBL15110', 'SCHEMBL1829048', 'SCHEMBL105872', 'SCHEMBL21656', 'SCHEMBL743626', 'SCHEMBL11032756', 'SCHEMBL1296', 'SCHEMBL11210831', 'SCHEMBL20411', 'SCHEMBL18492', 'SCHEMBL3416'])]\n"
     ]
    },
    {
     "data": {
      "text/plain": [
       "\"\\nSummary: has a list of all patents in a month, associated with SureChemBL compounds\\n\\nThis works! May be a pain to search over every month, but it's possible...\\n\""
      ]
     },
     "execution_count": 14,
     "metadata": {},
     "output_type": "execute_result"
    }
   ],
   "source": [
    "## Test 1: patent_cpd_edges\n",
    "\n",
    "patent_cpd_edges = pickle.load(file=open(\"Data/PubchemTesting/patent_cpd_edges_1980-01.p\", \"rb\"))\n",
    "\n",
    "print(list(patent_cpd_edges.items())[:2])\n",
    "\n",
    "\"\"\"\n",
    "Summary: has a list of all patents in a month, associated with SureChemBL compounds\n",
    "\n",
    "This works! May be a pain to search over every month, but it's possible...\n",
    "\"\"\""
   ]
  },
  {
   "cell_type": "code",
   "execution_count": null,
   "metadata": {},
   "outputs": [],
   "source": [
    "## Testing 2: SureChemBL data files\n",
    "\n",
    "\"\"\"\n",
    "Summary: holds all cpd:structure pairs\n",
    "\n",
    "Useful for linking ids to structures, but nothing else right now...\n",
    "\"\"\""
   ]
  },
  {
   "cell_type": "code",
   "execution_count": 13,
   "metadata": {},
   "outputs": [
    {
     "name": "stdout",
     "output_type": "stream",
     "text": [
      "<class 'list'>\n",
      "[(21642937, 13500164), (21642937, 13496703), (21642937, 11697068), (21642937, 13000345), (21642937, 13008282), (21642937, 11213625), (21642937, 14644888), (21642937, 8925145), (21642937, 14299252), (21642937, 11867437)]\n"
     ]
    }
   ],
   "source": [
    "## Testing 3: index_edgelist_bipartite.p\n",
    "\n",
    "index_edgelist = pickle.load(file=open(\"Data/PubchemTesting/index_edgelist_bipartite.p\", \"rb\"))\n",
    "print(type(index_edgelist))\n",
    "\n",
    "print(index_edgelist[0:10])\n",
    "\n",
    "\"\"\"\n",
    "Summary: I think this is the igraph format of the graph structure...using igraph's ids\n",
    "\n",
    "Not helpful, I'll have to link ids to patent/cpd ids anyway\n",
    "\n",
    "\"\"\""
   ]
  },
  {
   "cell_type": "code",
   "execution_count": 16,
   "metadata": {},
   "outputs": [
    {
     "name": "stdout",
     "output_type": "stream",
     "text": [
      "     Unnamed: 0    month  newPatents  totalPatents\n",
      "0           635  1962-01           1             1\n",
      "1           634  1962-02           0             1\n",
      "2           633  1962-03           0             1\n",
      "3           632  1962-04           0             1\n",
      "4           631  1962-05           0             1\n",
      "..          ...      ...         ...           ...\n",
      "703         703  2020-08       17772       4718060\n",
      "704         702  2020-09       18737       4736797\n",
      "705         707  2020-10       22580       4759377\n",
      "706         706  2020-11       17575       4776952\n",
      "707         705  2020-12       22717       4799669\n",
      "\n",
      "[708 rows x 4 columns]\n"
     ]
    }
   ],
   "source": [
    "## Testing 4: patent_summary.csv\n",
    "patent_summary = pd.read_csv(\"Data/PubchemTesting/0-patent_summary.csv\")\n",
    "\n",
    "print(patent_summary)\n",
    "\n",
    "\"\"\"\n",
    "Summary: holds the numbers of patents (total & new) for each month\n",
    "\n",
    "Not useful for this, unfortunately\n",
    "\n",
    "\"\"\"\n"
   ]
  },
  {
   "cell_type": "code",
   "execution_count": 19,
   "metadata": {},
   "outputs": [
    {
     "name": "stdout",
     "output_type": "stream",
     "text": [
      "[('SCHEMBL11310284', 'US-4186208-A'), ('SCHEMBL7622', 'EP-0007112-A2')]\n"
     ]
    },
    {
     "data": {
      "text/plain": [
       "'\\nSummary: holds all cpd:patent id pairs, showing where that particular compounds is (first?) found\\n\\nNot as useful as patent_cpd_edges\\n'"
      ]
     },
     "execution_count": 19,
     "metadata": {},
     "output_type": "execute_result"
    }
   ],
   "source": [
    "## Testing 5: cpd_patent_edges\n",
    "\n",
    "cpd_patent_edges = pickle.load(file=open(\"Data/PubchemTesting/cpd_patent_edges_1980-01.p\", \"rb\"))\n",
    "\n",
    "print(cpd_patent_edges[:2])\n",
    "\n",
    "\"\"\"\n",
    "Summary: holds all cpd:patent id pairs, showing where that particular compounds is (first?) found\n",
    "\n",
    "Not as useful as patent_cpd_edges\n",
    "\"\"\""
   ]
  }
 ],
 "metadata": {
  "kernelspec": {
   "display_name": "Python 3.9.5 64-bit",
   "language": "python",
   "name": "python3"
  },
  "language_info": {
   "codemirror_mode": {
    "name": "ipython",
    "version": 3
   },
   "file_extension": ".py",
   "mimetype": "text/x-python",
   "name": "python",
   "nbconvert_exporter": "python",
   "pygments_lexer": "ipython3",
   "version": "3.9.0"
  },
  "orig_nbformat": 4,
  "vscode": {
   "interpreter": {
    "hash": "aee8b7b246df8f9039afb4144a1f6fd8d2ca17a180786b69acc140d282b71a49"
   }
  }
 },
 "nbformat": 4,
 "nbformat_minor": 2
}

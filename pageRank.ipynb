{
 "cells": [
  {
   "cell_type": "code",
   "execution_count": 48,
   "metadata": {},
   "outputs": [],
   "source": [
    "import igraph as ig\n",
    "import pickle\n",
    "import matplotlib.pyplot as plt\n",
    "import numpy as np\n",
    "import pandas as pd\n",
    "from functools import reduce\n",
    "from tqdm import tqdm"
   ]
  },
  {
   "cell_type": "code",
   "execution_count": 18,
   "metadata": {},
   "outputs": [],
   "source": [
    "font = {'family' : 'normal',\n",
    "        'weight' : 'bold',\n",
    "        'size'   : 18}\n",
    "\n",
    "plt.rcParams.update({'font.size': 18})"
   ]
  },
  {
   "cell_type": "markdown",
   "metadata": {},
   "source": [
    "# PageRank for tracking innovative compounds\n",
    "\n",
    "Goal => use pagerank measures over time to find innovative cpds"
   ]
  },
  {
   "cell_type": "markdown",
   "metadata": {},
   "source": [
    "## Goal 1: Innovation through distributions\n",
    "\n",
    "Test actual pagerank values\n",
    "\n",
    "- Increasing values = higher influence\n",
    "- Persistently high value after increase = innovation"
   ]
  },
  {
   "cell_type": "code",
   "execution_count": 46,
   "metadata": {},
   "outputs": [],
   "source": [
    "## Testing for values\n",
    "fp = \"G:Shared drives/SureChemBL_Patents/PageRank/\"\n",
    "pr_1980_01 = pickle.load(file=open(fp + \"pagerank_1980-01.p\", \"rb\"))\n",
    "pr_1980_02 = pickle.load(file=open(fp + \"pagerank_1980-02.p\", \"rb\"))\n",
    "pr_2019_11 = pickle.load(file=open(fp + \"pagerank_2019-11.p\", \"rb\"))\n",
    "pr_2019_12 = pickle.load(file=open(fp + \"pagerank_2019-12.p\", \"rb\"))\n",
    "\n",
    "df_1980_01 = pd.DataFrame(pr_1980_01, columns=[\"ID\", \"PR_1980_01\"])\n",
    "df_1980_02 = pd.DataFrame(pr_1980_02, columns=[\"ID\", \"PR_1980_02\"])\n",
    "df_2019_11 = pd.DataFrame(pr_2019_11, columns=[\"ID\", \"PR_2019_11\"])\n",
    "df_2019_12 = pd.DataFrame(pr_2019_12, columns=[\"ID\", \"PR_2019_12\"])\n"
   ]
  },
  {
   "cell_type": "code",
   "execution_count": 30,
   "metadata": {},
   "outputs": [
    {
     "data": {
      "text/plain": [
       "Text(0, 0.5, 'Count')"
      ]
     },
     "execution_count": 30,
     "metadata": {},
     "output_type": "execute_result"
    },
    {
     "data": {
      "image/png": "[encoded data removed]",
      "text/plain": [
       "<Figure size 432x288 with 1 Axes>"
      ]
     },
     "metadata": {
      "needs_background": "light"
     },
     "output_type": "display_data"
    }
   ],
   "source": [
    "plt.hist(df_1980_01[\"PR_1980_01\"], label=\"1980-01\")\n",
    "plt.hist(df_1980_02[\"PR_1980_02\"], label=\"1980-02\")\n",
    "plt.hist(df_2019_12[\"PR_2019_12\"], label=\"2019-12\")\n",
    "\n",
    "plt.yscale(\"log\")\n",
    "\n",
    "plt.legend()\n",
    "plt.xlabel(\"Page Rank\")\n",
    "plt.ylabel(\"Count\")"
   ]
  },
  {
   "cell_type": "code",
   "execution_count": 44,
   "metadata": {},
   "outputs": [
    {
     "name": "stdout",
     "output_type": "stream",
     "text": [
      "                     ID  PR_1980_01  PR_1980_02  PR_2019_11  PR_2019_12\n",
      "0       SCHEMBL11422812    0.000030         NaN         NaN         NaN\n",
      "1       SCHEMBL11488819    0.000029         NaN         NaN         NaN\n",
      "2        SCHEMBL9429923    0.000051         NaN         NaN         NaN\n",
      "3       SCHEMBL11245945    0.000019         NaN         NaN         NaN\n",
      "4       SCHEMBL11486700    0.000034         NaN         NaN         NaN\n",
      "...                 ...         ...         ...         ...         ...\n",
      "352703  SCHEMBL21584018         NaN         NaN         NaN    0.000010\n",
      "352704  SCHEMBL18147995         NaN         NaN         NaN    0.000013\n",
      "352705  SCHEMBL21599701         NaN         NaN         NaN    0.000013\n",
      "352706  SCHEMBL21602312         NaN         NaN         NaN    0.000010\n",
      "352707  SCHEMBL21600585         NaN         NaN         NaN    0.000007\n",
      "\n",
      "[352708 rows x 5 columns]\n"
     ]
    }
   ],
   "source": [
    "#Testing merging dataframes (its working!)\n",
    "\n",
    "dataframes = [df_1980_01, df_1980_02, df_2019_11, df_2019_12]\n",
    "\n",
    "df = reduce(lambda left, right: pd.merge(left, right, on=[\"ID\"], how=\"outer\"), dataframes)\n",
    "\n",
    "print(df)"
   ]
  },
  {
   "cell_type": "markdown",
   "metadata": {},
   "source": [
    "### Tidy data\n",
    "\n",
    "Get all pagerank values for each compound, put them in a dataframe with each unique ID as a row"
   ]
  },
  {
   "cell_type": "code",
   "execution_count": 47,
   "metadata": {},
   "outputs": [],
   "source": [
    "def build_month_list(start, end):\n",
    "    \"\"\" Builds a list of all months in a given range\n",
    "\n",
    "    Args:\n",
    "        start (int): year describing the start of the data\n",
    "        end (int): year describing the end of the data (inclusive)\n",
    "\n",
    "    Returns:\n",
    "        list: list of all update months in format \"YYYY-MM\"\n",
    "    \"\"\"\n",
    "    updates = []\n",
    "    for year in range(start, end + 1):  # all years through the given end\n",
    "        for month in range(1, 13):  #include 12 months\n",
    "            if month < 10:\n",
    "                updates.append(str(year) + \"-0\" + str(month))\n",
    "            else:\n",
    "                updates.append(str(year) + \"-\" + str(month))\n",
    "\n",
    "    return updates"
   ]
  },
  {
   "cell_type": "code",
   "execution_count": 58,
   "metadata": {},
   "outputs": [
    {
     "name": "stdout",
     "output_type": "stream",
     "text": [
      "Loading dataframes...\n"
     ]
    },
    {
     "name": "stderr",
     "output_type": "stream",
     "text": [
      "100%|██████████| 480/480 [04:52<00:00,  1.64it/s]\n"
     ]
    },
    {
     "name": "stdout",
     "output_type": "stream",
     "text": [
      "Merging dataframes...\n"
     ]
    },
    {
     "ename": "MemoryError",
     "evalue": "Unable to allocate 132. MiB for an array with shape (8661923,) and data type complex128",
     "output_type": "error",
     "traceback": [
      "\u001b[1;31m---------------------------------------------------------------------------\u001b[0m",
      "\u001b[1;31mMemoryError\u001b[0m                               Traceback (most recent call last)",
      "\u001b[1;32mz:\\group\\John Malloy\\Projects\\Patents\\pageRank.ipynb Cell 10\u001b[0m in \u001b[0;36m<cell line: 10>\u001b[1;34m()\u001b[0m\n\u001b[0;32m      <a href='vscode-notebook-cell:/z%3A/group/John%20Malloy/Projects/Patents/pageRank.ipynb#X24sZmlsZQ%3D%3D?line=5'>6</a>\u001b[0m     dataframes\u001b[39m.\u001b[39mappend(pd\u001b[39m.\u001b[39mDataFrame(pickle\u001b[39m.\u001b[39mload(file\u001b[39m=\u001b[39m\u001b[39mopen\u001b[39m(fp \u001b[39m+\u001b[39m \u001b[39m\"\u001b[39m\u001b[39mpagerank_\u001b[39m\u001b[39m\"\u001b[39m \u001b[39m+\u001b[39m \u001b[39mstr\u001b[39m(month) \u001b[39m+\u001b[39m \u001b[39m\"\u001b[39m\u001b[39m.p\u001b[39m\u001b[39m\"\u001b[39m, \u001b[39m\"\u001b[39m\u001b[39mrb\u001b[39m\u001b[39m\"\u001b[39m)), \n\u001b[0;32m      <a href='vscode-notebook-cell:/z%3A/group/John%20Malloy/Projects/Patents/pageRank.ipynb#X24sZmlsZQ%3D%3D?line=6'>7</a>\u001b[0m         columns\u001b[39m=\u001b[39m[\u001b[39m\"\u001b[39m\u001b[39mID\u001b[39m\u001b[39m\"\u001b[39m, \u001b[39mstr\u001b[39m(month)]))\n\u001b[0;32m      <a href='vscode-notebook-cell:/z%3A/group/John%20Malloy/Projects/Patents/pageRank.ipynb#X24sZmlsZQ%3D%3D?line=8'>9</a>\u001b[0m \u001b[39mprint\u001b[39m(\u001b[39m\"\u001b[39m\u001b[39mMerging dataframes...\u001b[39m\u001b[39m\"\u001b[39m)\n\u001b[1;32m---> <a href='vscode-notebook-cell:/z%3A/group/John%20Malloy/Projects/Patents/pageRank.ipynb#X24sZmlsZQ%3D%3D?line=9'>10</a>\u001b[0m df \u001b[39m=\u001b[39m reduce(\u001b[39mlambda\u001b[39;49;00m left, right: pd\u001b[39m.\u001b[39;49mmerge(left, right, on\u001b[39m=\u001b[39;49m[\u001b[39m\"\u001b[39;49m\u001b[39mID\u001b[39;49m\u001b[39m\"\u001b[39;49m], how\u001b[39m=\u001b[39;49m\u001b[39m\"\u001b[39;49m\u001b[39mouter\u001b[39;49m\u001b[39m\"\u001b[39;49m), dataframes)\n\u001b[0;32m     <a href='vscode-notebook-cell:/z%3A/group/John%20Malloy/Projects/Patents/pageRank.ipynb#X24sZmlsZQ%3D%3D?line=11'>12</a>\u001b[0m \u001b[39mprint\u001b[39m(df)\n\u001b[0;32m     <a href='vscode-notebook-cell:/z%3A/group/John%20Malloy/Projects/Patents/pageRank.ipynb#X24sZmlsZQ%3D%3D?line=13'>14</a>\u001b[0m fp \u001b[39m=\u001b[39m \u001b[39m\"\u001b[39m\u001b[39mG:Shared drives/SureChemBL_Patents/PageRank/\u001b[39m\u001b[39m\"\u001b[39m\n",
      "\u001b[1;32mz:\\group\\John Malloy\\Projects\\Patents\\pageRank.ipynb Cell 10\u001b[0m in \u001b[0;36m<lambda>\u001b[1;34m(left, right)\u001b[0m\n\u001b[0;32m      <a href='vscode-notebook-cell:/z%3A/group/John%20Malloy/Projects/Patents/pageRank.ipynb#X24sZmlsZQ%3D%3D?line=5'>6</a>\u001b[0m     dataframes\u001b[39m.\u001b[39mappend(pd\u001b[39m.\u001b[39mDataFrame(pickle\u001b[39m.\u001b[39mload(file\u001b[39m=\u001b[39m\u001b[39mopen\u001b[39m(fp \u001b[39m+\u001b[39m \u001b[39m\"\u001b[39m\u001b[39mpagerank_\u001b[39m\u001b[39m\"\u001b[39m \u001b[39m+\u001b[39m \u001b[39mstr\u001b[39m(month) \u001b[39m+\u001b[39m \u001b[39m\"\u001b[39m\u001b[39m.p\u001b[39m\u001b[39m\"\u001b[39m, \u001b[39m\"\u001b[39m\u001b[39mrb\u001b[39m\u001b[39m\"\u001b[39m)), \n\u001b[0;32m      <a href='vscode-notebook-cell:/z%3A/group/John%20Malloy/Projects/Patents/pageRank.ipynb#X24sZmlsZQ%3D%3D?line=6'>7</a>\u001b[0m         columns\u001b[39m=\u001b[39m[\u001b[39m\"\u001b[39m\u001b[39mID\u001b[39m\u001b[39m\"\u001b[39m, \u001b[39mstr\u001b[39m(month)]))\n\u001b[0;32m      <a href='vscode-notebook-cell:/z%3A/group/John%20Malloy/Projects/Patents/pageRank.ipynb#X24sZmlsZQ%3D%3D?line=8'>9</a>\u001b[0m \u001b[39mprint\u001b[39m(\u001b[39m\"\u001b[39m\u001b[39mMerging dataframes...\u001b[39m\u001b[39m\"\u001b[39m)\n\u001b[1;32m---> <a href='vscode-notebook-cell:/z%3A/group/John%20Malloy/Projects/Patents/pageRank.ipynb#X24sZmlsZQ%3D%3D?line=9'>10</a>\u001b[0m df \u001b[39m=\u001b[39m reduce(\u001b[39mlambda\u001b[39;00m left, right: pd\u001b[39m.\u001b[39;49mmerge(left, right, on\u001b[39m=\u001b[39;49m[\u001b[39m\"\u001b[39;49m\u001b[39mID\u001b[39;49m\u001b[39m\"\u001b[39;49m], how\u001b[39m=\u001b[39;49m\u001b[39m\"\u001b[39;49m\u001b[39mouter\u001b[39;49m\u001b[39m\"\u001b[39;49m), dataframes)\n\u001b[0;32m     <a href='vscode-notebook-cell:/z%3A/group/John%20Malloy/Projects/Patents/pageRank.ipynb#X24sZmlsZQ%3D%3D?line=11'>12</a>\u001b[0m \u001b[39mprint\u001b[39m(df)\n\u001b[0;32m     <a href='vscode-notebook-cell:/z%3A/group/John%20Malloy/Projects/Patents/pageRank.ipynb#X24sZmlsZQ%3D%3D?line=13'>14</a>\u001b[0m fp \u001b[39m=\u001b[39m \u001b[39m\"\u001b[39m\u001b[39mG:Shared drives/SureChemBL_Patents/PageRank/\u001b[39m\u001b[39m\"\u001b[39m\n",
      "File \u001b[1;32mc:\\Users\\group\\miniconda3\\lib\\site-packages\\pandas\\core\\reshape\\merge.py:122\u001b[0m, in \u001b[0;36mmerge\u001b[1;34m(left, right, how, on, left_on, right_on, left_index, right_index, sort, suffixes, copy, indicator, validate)\u001b[0m\n\u001b[0;32m     90\u001b[0m \u001b[39m@Substitution\u001b[39m(\u001b[39m\"\u001b[39m\u001b[39m\\n\u001b[39;00m\u001b[39mleft : DataFrame or named Series\u001b[39m\u001b[39m\"\u001b[39m)\n\u001b[0;32m     91\u001b[0m \u001b[39m@Appender\u001b[39m(_merge_doc, indents\u001b[39m=\u001b[39m\u001b[39m0\u001b[39m)\n\u001b[0;32m     92\u001b[0m \u001b[39mdef\u001b[39;00m \u001b[39mmerge\u001b[39m(\n\u001b[1;32m   (...)\u001b[0m\n\u001b[0;32m    105\u001b[0m     validate: \u001b[39mstr\u001b[39m \u001b[39m|\u001b[39m \u001b[39mNone\u001b[39;00m \u001b[39m=\u001b[39m \u001b[39mNone\u001b[39;00m,\n\u001b[0;32m    106\u001b[0m ) \u001b[39m-\u001b[39m\u001b[39m>\u001b[39m DataFrame:\n\u001b[0;32m    107\u001b[0m     op \u001b[39m=\u001b[39m _MergeOperation(\n\u001b[0;32m    108\u001b[0m         left,\n\u001b[0;32m    109\u001b[0m         right,\n\u001b[1;32m   (...)\u001b[0m\n\u001b[0;32m    120\u001b[0m         validate\u001b[39m=\u001b[39mvalidate,\n\u001b[0;32m    121\u001b[0m     )\n\u001b[1;32m--> 122\u001b[0m     \u001b[39mreturn\u001b[39;00m op\u001b[39m.\u001b[39;49mget_result()\n",
      "File \u001b[1;32mc:\\Users\\group\\miniconda3\\lib\\site-packages\\pandas\\core\\reshape\\merge.py:738\u001b[0m, in \u001b[0;36m_MergeOperation.get_result\u001b[1;34m(self)\u001b[0m\n\u001b[0;32m    735\u001b[0m \u001b[39mif\u001b[39;00m \u001b[39mself\u001b[39m\u001b[39m.\u001b[39mindicator:\n\u001b[0;32m    736\u001b[0m     result \u001b[39m=\u001b[39m \u001b[39mself\u001b[39m\u001b[39m.\u001b[39m_indicator_post_merge(result)\n\u001b[1;32m--> 738\u001b[0m \u001b[39mself\u001b[39;49m\u001b[39m.\u001b[39;49m_maybe_add_join_keys(result, left_indexer, right_indexer)\n\u001b[0;32m    740\u001b[0m \u001b[39mself\u001b[39m\u001b[39m.\u001b[39m_maybe_restore_index_levels(result)\n\u001b[0;32m    742\u001b[0m \u001b[39mself\u001b[39m\u001b[39m.\u001b[39m_maybe_drop_cross_column(result, \u001b[39mself\u001b[39m\u001b[39m.\u001b[39m_cross)\n",
      "File \u001b[1;32mc:\\Users\\group\\miniconda3\\lib\\site-packages\\pandas\\core\\reshape\\merge.py:916\u001b[0m, in \u001b[0;36m_MergeOperation._maybe_add_join_keys\u001b[1;34m(self, result, left_indexer, right_indexer)\u001b[0m\n\u001b[0;32m    914\u001b[0m     result_dtype \u001b[39m=\u001b[39m lvals\u001b[39m.\u001b[39mdtype\n\u001b[0;32m    915\u001b[0m \u001b[39melse\u001b[39;00m:\n\u001b[1;32m--> 916\u001b[0m     key_col \u001b[39m=\u001b[39m Index(lvals)\u001b[39m.\u001b[39mwhere(\u001b[39m~\u001b[39mmask_left, rvals)\n\u001b[0;32m    917\u001b[0m     result_dtype \u001b[39m=\u001b[39m find_common_type([lvals\u001b[39m.\u001b[39mdtype, rvals\u001b[39m.\u001b[39mdtype])\n\u001b[0;32m    919\u001b[0m \u001b[39mif\u001b[39;00m result\u001b[39m.\u001b[39m_is_label_reference(name):\n",
      "File \u001b[1;32mc:\\Users\\group\\miniconda3\\lib\\site-packages\\pandas\\core\\indexes\\base.py:494\u001b[0m, in \u001b[0;36mIndex.__new__\u001b[1;34m(cls, data, dtype, copy, name, tupleize_cols, **kwargs)\u001b[0m\n\u001b[0;32m    491\u001b[0m arr \u001b[39m=\u001b[39m com\u001b[39m.\u001b[39masarray_tuplesafe(data, dtype\u001b[39m=\u001b[39m_dtype_obj)\n\u001b[0;32m    493\u001b[0m \u001b[39mif\u001b[39;00m dtype \u001b[39mis\u001b[39;00m \u001b[39mNone\u001b[39;00m:\n\u001b[1;32m--> 494\u001b[0m     arr \u001b[39m=\u001b[39m _maybe_cast_data_without_dtype(\n\u001b[0;32m    495\u001b[0m         arr, cast_numeric_deprecated\u001b[39m=\u001b[39;49m\u001b[39mTrue\u001b[39;49;00m\n\u001b[0;32m    496\u001b[0m     )\n\u001b[0;32m    497\u001b[0m     dtype \u001b[39m=\u001b[39m arr\u001b[39m.\u001b[39mdtype\n\u001b[0;32m    499\u001b[0m     \u001b[39mif\u001b[39;00m kwargs:\n",
      "File \u001b[1;32mc:\\Users\\group\\miniconda3\\lib\\site-packages\\pandas\\core\\indexes\\base.py:7124\u001b[0m, in \u001b[0;36m_maybe_cast_data_without_dtype\u001b[1;34m(subarr, cast_numeric_deprecated)\u001b[0m\n\u001b[0;32m   7106\u001b[0m \u001b[39mdef\u001b[39;00m \u001b[39m_maybe_cast_data_without_dtype\u001b[39m(\n\u001b[0;32m   7107\u001b[0m     subarr: np\u001b[39m.\u001b[39mndarray, cast_numeric_deprecated: \u001b[39mbool\u001b[39m \u001b[39m=\u001b[39m \u001b[39mTrue\u001b[39;00m\n\u001b[0;32m   7108\u001b[0m ) \u001b[39m-\u001b[39m\u001b[39m>\u001b[39m ArrayLike:\n\u001b[0;32m   7109\u001b[0m     \u001b[39m\"\"\"\u001b[39;00m\n\u001b[0;32m   7110\u001b[0m \u001b[39m    If we have an arraylike input but no passed dtype, try to infer\u001b[39;00m\n\u001b[0;32m   7111\u001b[0m \u001b[39m    a supported dtype.\u001b[39;00m\n\u001b[1;32m   (...)\u001b[0m\n\u001b[0;32m   7121\u001b[0m \u001b[39m    np.ndarray or ExtensionArray\u001b[39;00m\n\u001b[0;32m   7122\u001b[0m \u001b[39m    \"\"\"\u001b[39;00m\n\u001b[1;32m-> 7124\u001b[0m     result \u001b[39m=\u001b[39m lib\u001b[39m.\u001b[39;49mmaybe_convert_objects(\n\u001b[0;32m   7125\u001b[0m         subarr,\n\u001b[0;32m   7126\u001b[0m         convert_datetime\u001b[39m=\u001b[39;49m\u001b[39mTrue\u001b[39;49;00m,\n\u001b[0;32m   7127\u001b[0m         convert_timedelta\u001b[39m=\u001b[39;49m\u001b[39mTrue\u001b[39;49;00m,\n\u001b[0;32m   7128\u001b[0m         convert_period\u001b[39m=\u001b[39;49m\u001b[39mTrue\u001b[39;49;00m,\n\u001b[0;32m   7129\u001b[0m         convert_interval\u001b[39m=\u001b[39;49m\u001b[39mTrue\u001b[39;49;00m,\n\u001b[0;32m   7130\u001b[0m         dtype_if_all_nat\u001b[39m=\u001b[39;49mnp\u001b[39m.\u001b[39;49mdtype(\u001b[39m\"\u001b[39;49m\u001b[39mdatetime64[ns]\u001b[39;49m\u001b[39m\"\u001b[39;49m),\n\u001b[0;32m   7131\u001b[0m     )\n\u001b[0;32m   7132\u001b[0m     \u001b[39mif\u001b[39;00m result\u001b[39m.\u001b[39mdtype\u001b[39m.\u001b[39mkind \u001b[39min\u001b[39;00m [\u001b[39m\"\u001b[39m\u001b[39mi\u001b[39m\u001b[39m\"\u001b[39m, \u001b[39m\"\u001b[39m\u001b[39mu\u001b[39m\u001b[39m\"\u001b[39m, \u001b[39m\"\u001b[39m\u001b[39mf\u001b[39m\u001b[39m\"\u001b[39m]:\n\u001b[0;32m   7133\u001b[0m         \u001b[39mif\u001b[39;00m \u001b[39mnot\u001b[39;00m cast_numeric_deprecated:\n\u001b[0;32m   7134\u001b[0m             \u001b[39m# i.e. we started with a list, not an ndarray[object]\u001b[39;00m\n",
      "File \u001b[1;32mc:\\Users\\group\\miniconda3\\lib\\site-packages\\pandas\\_libs\\lib.pyx:2457\u001b[0m, in \u001b[0;36mpandas._libs.lib.maybe_convert_objects\u001b[1;34m()\u001b[0m\n",
      "\u001b[1;31mMemoryError\u001b[0m: Unable to allocate 132. MiB for an array with shape (8661923,) and data type complex128"
     ]
    }
   ],
   "source": [
    "months = build_month_list(1980, 2019)\n",
    "dataframes = []\n",
    "\n",
    "print(\"Loading dataframes...\")\n",
    "for month in tqdm(months):\n",
    "    dataframes.append(pd.DataFrame(pickle.load(file=open(fp + \"pagerank_\" + str(month) + \".p\", \"rb\")), \n",
    "        columns=[\"ID\", str(month)]))\n",
    "\n",
    "print(\"Merging dataframes...\")\n",
    "df = reduce(lambda left, right: pd.merge(left, right, on=[\"ID\"], how=\"outer\"), dataframes)\n",
    "\n",
    "print(df)\n",
    "\n",
    "fp = \"G:Shared drives/SureChemBL_Patents/PageRank/\"\n",
    "df.to_csv(fp + \"pageRank_data.csv\")"
   ]
  },
  {
   "cell_type": "code",
   "execution_count": 52,
   "metadata": {},
   "outputs": [
    {
     "name": "stdout",
     "output_type": "stream",
     "text": [
      "                 ID   1980-01   1980-02   1980-03   1980-04   1980-05  \\\n",
      "13      SCHEMBL1748  0.000393  0.000362  0.000357  0.000299  0.000503   \n",
      "27     SCHEMBL23098  0.000040  0.000088  0.000051  0.000037  0.000155   \n",
      "40     SCHEMBL15681  0.000101  0.000019  0.000041  0.000115  0.000046   \n",
      "48     SCHEMBL51803  0.000089  0.000042  0.000030  0.000026  0.000044   \n",
      "56       SCHEMBL968  0.000342  0.000233  0.000374  0.000242  0.000278   \n",
      "...             ...       ...       ...       ...       ...       ...   \n",
      "26615  SCHEMBL80292  0.000381  0.000279  0.000233  0.000255  0.000247   \n",
      "26691  SCHEMBL22165  0.000056  0.000034  0.000053  0.000019  0.000104   \n",
      "26699  SCHEMBL19807  0.000056  0.000129  0.000045  0.000059  0.000025   \n",
      "26730  SCHEMBL14893  0.000206  0.000310  0.000283  0.000185  0.000255   \n",
      "26738  SCHEMBL15789  0.000127  0.000274  0.000208  0.000199  0.000317   \n",
      "\n",
      "        1980-06   1980-07   1980-08   1980-09  ...   1984-03   1984-04  \\\n",
      "13     0.000431  0.000377  0.000607  0.000363  ...  0.000328  0.000565   \n",
      "27     0.000030  0.000066  0.000060  0.000102  ...  0.000059  0.000051   \n",
      "40     0.000034  0.000065  0.000044  0.000064  ...  0.000116  0.000022   \n",
      "48     0.000062  0.000056  0.000133  0.000029  ...  0.000041  0.000110   \n",
      "56     0.000174  0.000147  0.000139  0.000162  ...  0.000209  0.000203   \n",
      "...         ...       ...       ...       ...  ...       ...       ...   \n",
      "26615  0.000359  0.000275  0.000388  0.000305  ...  0.000298  0.000308   \n",
      "26691  0.000085  0.000080  0.000093  0.000113  ...  0.000099  0.000048   \n",
      "26699  0.000136  0.000025  0.000112  0.000014  ...  0.000083  0.000135   \n",
      "26730  0.000239  0.000257  0.000172  0.000166  ...  0.000349  0.000330   \n",
      "26738  0.000143  0.000263  0.000175  0.000231  ...  0.000252  0.000125   \n",
      "\n",
      "        1984-05   1984-06   1984-07   1984-08   1984-09   1984-10   1984-11  \\\n",
      "13     0.000479  0.000404  0.000389  0.000482  0.000366  0.000431  0.000458   \n",
      "27     0.000083  0.000055  0.000049  0.000055  0.000088  0.000087  0.000094   \n",
      "40     0.000032  0.000070  0.000056  0.000101  0.000038  0.000087  0.000053   \n",
      "48     0.000066  0.000025  0.000044  0.000021  0.000065  0.000065  0.000061   \n",
      "56     0.000215  0.000279  0.000228  0.000197  0.000395  0.000260  0.000191   \n",
      "...         ...       ...       ...       ...       ...       ...       ...   \n",
      "26615  0.000418  0.000235  0.000214  0.000494  0.000345  0.000241  0.000464   \n",
      "26691  0.000118  0.000041  0.000140  0.000135  0.000122  0.000089  0.000057   \n",
      "26699  0.000066  0.000133  0.000137  0.000092  0.000087  0.000101  0.000049   \n",
      "26730  0.000310  0.000289  0.000243  0.000256  0.000306  0.000325  0.000298   \n",
      "26738  0.000188  0.000141  0.000112  0.000100  0.000134  0.000160  0.000210   \n",
      "\n",
      "        1984-12  \n",
      "13     0.000311  \n",
      "27     0.000049  \n",
      "40     0.000048  \n",
      "48     0.000037  \n",
      "56     0.000417  \n",
      "...         ...  \n",
      "26615  0.000205  \n",
      "26691  0.000143  \n",
      "26699  0.000044  \n",
      "26730  0.000195  \n",
      "26738  0.000161  \n",
      "\n",
      "[1107 rows x 61 columns]\n"
     ]
    }
   ],
   "source": [
    "df_noNA = df.dropna()\n",
    "\n",
    "print(df_noNA)"
   ]
  }
 ],
 "metadata": {
  "kernelspec": {
   "display_name": "Python 3.9.5 64-bit",
   "language": "python",
   "name": "python3"
  },
  "language_info": {
   "codemirror_mode": {
    "name": "ipython",
    "version": 3
   },
   "file_extension": ".py",
   "mimetype": "text/x-python",
   "name": "python",
   "nbconvert_exporter": "python",
   "pygments_lexer": "ipython3",
   "version": "3.9.5"
  },
  "orig_nbformat": 4,
  "vscode": {
   "interpreter": {
    "hash": "aee8b7b246df8f9039afb4144a1f6fd8d2ca17a180786b69acc140d282b71a49"
   }
  }
 },
 "nbformat": 4,
 "nbformat_minor": 2
}

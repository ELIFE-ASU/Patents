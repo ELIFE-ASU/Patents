{
 "cells": [
  {
   "cell_type": "code",
   "execution_count": 6,
   "metadata": {},
   "outputs": [],
   "source": [
    "import igraph as ig\n",
    "import pickle\n",
    "import matplotlib.pyplot as plt"
   ]
  },
  {
   "cell_type": "markdown",
   "metadata": {},
   "source": [
    "# PageRank for tracking innovative compounds"
   ]
  },
  {
   "cell_type": "code",
   "execution_count": 13,
   "metadata": {},
   "outputs": [
    {
     "name": "stdout",
     "output_type": "stream",
     "text": [
      "IGRAPH UN-- 26788 2193731 -- \n",
      "+ attr: date (v), name (v)\n",
      "None\n",
      "IGRAPH UN-- 25420 2505482 -- \n",
      "+ attr: date (v), name (v)\n",
      "None\n"
     ]
    }
   ],
   "source": [
    "G_1980_01 = pickle.load(file=open(\"Data/Graphs/G_cpd_1980-01.p\", \"rb\"))\n",
    "G_1980_02 = pickle.load(file=open(\"Data/Graphs/G_cpd_1980-02.p\", \"rb\"))\n",
    "print(ig.summary(G_1980_01))\n",
    "print(ig.summary(G_1980_02))"
   ]
  },
  {
   "cell_type": "code",
   "execution_count": 27,
   "metadata": {},
   "outputs": [],
   "source": [
    "#Goal = link pageranks across years\n",
    "\n",
    "#Put pagerank into graph attributes\n",
    "G_1980_01.vs[\"pagerank\"] = G_1980_01.pagerank()\n",
    "G_1980_02.vs[\"pagerank\"] = G_1980_02.pagerank()"
   ]
  },
  {
   "cell_type": "code",
   "execution_count": 36,
   "metadata": {},
   "outputs": [
    {
     "name": "stdout",
     "output_type": "stream",
     "text": [
      "SCHEMBL34\n"
     ]
    }
   ],
   "source": [
    "#Find maximum pagerank value - this should persist across years\n",
    "max_pr = max(G_1980_01.vs[\"pagerank\"])\n",
    "max_name = G_1980_01.vs.select(pagerank_eq=max_pr)[\"name\"][0]\n",
    "print(max_name)"
   ]
  },
  {
   "cell_type": "code",
   "execution_count": 37,
   "metadata": {},
   "outputs": [
    {
     "name": "stdout",
     "output_type": "stream",
     "text": [
      "[0.001987030819485658]\n",
      "[0.0018958511955712804]\n"
     ]
    }
   ],
   "source": [
    "print(G_1980_01.vs.select(name_eq=max_name)[\"pagerank\"])\n",
    "print(G_1980_02.vs.select(name_eq=max_name)[\"pagerank\"])"
   ]
  },
  {
   "cell_type": "code",
   "execution_count": 42,
   "metadata": {},
   "outputs": [
    {
     "data": {
      "text/plain": [
       "<matplotlib.legend.Legend at 0x1e41bf16220>"
      ]
     },
     "execution_count": 42,
     "metadata": {},
     "output_type": "execute_result"
    },
    {
     "data": {
      "image/png": "[encoded data removed]",
      "text/plain": [
       "<Figure size 720x720 with 1 Axes>"
      ]
     },
     "metadata": {
      "needs_background": "light"
     },
     "output_type": "display_data"
    }
   ],
   "source": [
    "plt.figure(figsize=(10,10))\n",
    "\n",
    "plt.hist(G_1980_01.vs[\"pagerank\"], alpha=0.8, bins=20, label=\"Jan 1980\")\n",
    "plt.hist(G_1980_02.vs[\"pagerank\"], alpha=0.8, bins=20, label=\"Feb 1980\")\n",
    "\n",
    "plt.yscale(\"log\")\n",
    "plt.legend()"
   ]
  },
  {
   "cell_type": "code",
   "execution_count": 12,
   "metadata": {},
   "outputs": [],
   "source": [
    "del(G_2009)"
   ]
  }
 ],
 "metadata": {
  "kernelspec": {
   "display_name": "Python 3.9.12 ('base')",
   "language": "python",
   "name": "python3"
  },
  "language_info": {
   "codemirror_mode": {
    "name": "ipython",
    "version": 3
   },
   "file_extension": ".py",
   "mimetype": "text/x-python",
   "name": "python",
   "nbconvert_exporter": "python",
   "pygments_lexer": "ipython3",
   "version": "3.9.12"
  },
  "orig_nbformat": 4,
  "vscode": {
   "interpreter": {
    "hash": "b6d33183bcf47bf2749a1bb5bc5cecc0497fbf4071239c16ea842776928851e7"
   }
  }
 },
 "nbformat": 4,
 "nbformat_minor": 2
}

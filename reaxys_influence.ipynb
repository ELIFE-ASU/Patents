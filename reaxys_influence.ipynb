{
 "cells": [
  {
   "cell_type": "code",
   "execution_count": 6,
   "metadata": {},
   "outputs": [],
   "source": [
    "# Code edited from Dario's cost-of-chemical-space project \n",
    "\n",
    "import pandas as pd\n",
    "import sqlite3\n",
    "from functools import reduce\n",
    "from itertools import islice\n",
    "import pickle\n",
    "import matplotlib.pyplot as plt\n",
    "import os\n",
    "from tqdm import tqdm"
   ]
  },
  {
   "cell_type": "code",
   "execution_count": 5,
   "metadata": {},
   "outputs": [],
   "source": [
    "font = {'family' : 'normal',\n",
    "        'weight' : 'bold',\n",
    "        'size'   : 18}\n",
    "\n",
    "plt.rcParams.update({'font.size': 18})"
   ]
  },
  {
   "cell_type": "markdown",
   "metadata": {},
   "source": [
    "## Read in Reaxys database\n",
    "\n",
    "SQLite access to locally downloaded Reaxys database (from Dario)"
   ]
  },
  {
   "cell_type": "code",
   "execution_count": 8,
   "metadata": {},
   "outputs": [
    {
     "name": "stdout",
     "output_type": "stream",
     "text": [
      "           smiles reaxys_id                          name  formula       MW  \\\n",
      "0  CC(I)CC1CCCCN1      1267  2-(2-Iodo-propyl)-piperidine  C8H16IN  253.126   \n",
      "\n",
      "    CAS bioactivity availability as_product                    InChI_key  \\\n",
      "0  None           0            0          0  LADXKDUENYZGKB-UHFFFAOYSA-N   \n",
      "\n",
      "  markush_count n_references ma_publication_year  entry_date update_date  \\\n",
      "0             0            6                1970  1988/06/27  2022/03/24   \n",
      "\n",
      "  as_reagent as_reagent_reactions  \n",
      "0       None                 None  \n"
     ]
    }
   ],
   "source": [
    "conn = sqlite3.connect(\"C:\\\\Users\\\\group\\\\Desktop\\\\full_molecules.db\")\n",
    "first_line = pd.read_sql_query(\"\"\"SELECT * FROM molecules LIMIT 1\"\"\", conn)\n",
    "conn.close()\n",
    "print(first_line)"
   ]
  },
  {
   "cell_type": "code",
   "execution_count": 4,
   "metadata": {},
   "outputs": [],
   "source": [
    "conn = sqlite3.connect(\"C:\\\\Users\\\\group\\\\Desktop\\\\full_molecules.db\")\n",
    "df = pd.read_sql_query(\"\"\"SELECT smiles, InChI_key, reaxys_id, n_references, name, as_reagent, as_product FROM molecules\"\"\", conn)\n",
    "conn.close()\n",
    "print(df)"
   ]
  },
  {
   "cell_type": "markdown",
   "metadata": {},
   "source": [
    "## Read in SureChemBL database\n",
    "\n",
    "Test: Read in a subset of the SureChemBL database to find smiles which can be linked with Reaxys\n",
    "\n",
    "Eventual goal - apply this over entire SureChemBL database"
   ]
  },
  {
   "cell_type": "code",
   "execution_count": 13,
   "metadata": {},
   "outputs": [
    {
     "name": "stdout",
     "output_type": "stream",
     "text": [
      "          SureChEMBL_ID                                             SMILES  \\\n",
      "0              SCHEMBL4                   C[C@H](CS)C(=O)N1CCC[C@H]1C(O)=O   \n",
      "1              SCHEMBL9  O=C(O)\\C=C/C(=O)O.CCOC(=O)[C@H](CCC1=CC=CC=C1)...   \n",
      "2             SCHEMBL10  OC(=O)C=CC(O)=O.CCOC(=O)[C@H](CCC1=CC=CC=C1)N[...   \n",
      "3             SCHEMBL11  CC\\C=C\\C1=NC(Cl)=C(C=O)N1CC1=CC=C(C=C1)C1=C(C=...   \n",
      "4             SCHEMBL12  CC=CCC1=NC(Cl)=C(C=O)N1CC1=CC=C(C=C1)C1=C(C=CC...   \n",
      "...                 ...                                                ...   \n",
      "7157446  SCHEMBL7999995             CCCCC1=CC2=CC=CC=C2C(OCC(CCN)N(C)C)=N1   \n",
      "7157447  SCHEMBL7999997  CCCCCCCCCCCCCCCC(CC)NC(C(C)C)C1=CC2=C(C=CC(C)(...   \n",
      "7157448  SCHEMBL7999998  COC1=C(F)C(C)=NC(=N1)N1C[C@H]2C(=O)N(C)C(=N)N[...   \n",
      "7157449  SCHEMBL7999999  CCCCCCOC1=C(OC(C)C)C(=O)N(CCCCCC)C2=C1C=CC(NC(...   \n",
      "7157450  SCHEMBL8000000  COC1=C2C3=C(NC(=O)C2=CC=C1)SC(CN1CCC[C@@H]1C(F...   \n",
      "\n",
      "                                                     InChI  \\\n",
      "0        InChI=1S/C9H15NO3S/c1-6(5-14)8(11)10-4-2-3-7(1...   \n",
      "1        InChI=1S/C20H28N2O5.C4H4O4/c1-3-27-20(26)16(12...   \n",
      "2        InChI=1S/C20H28N2O5.C4H4O4/c1-3-27-20(26)16(12...   \n",
      "3        InChI=1S/C22H19ClN6O/c1-2-3-8-20-24-21(23)19(1...   \n",
      "4        InChI=1S/C22H19ClN6O/c1-2-3-8-20-24-21(23)19(1...   \n",
      "...                                                    ...   \n",
      "7157446  InChI=1S/C19H29N3O/c1-4-5-9-16-13-15-8-6-7-10-...   \n",
      "7157447  InChI=1S/C37H60N2O/c1-7-9-10-11-12-13-14-15-16...   \n",
      "7157448  InChI=1S/C17H18ClFN6O2S/c1-8-12(19)13(27-3)22-...   \n",
      "7157449  InChI=1S/C26H40N2O4/c1-6-8-10-12-16-28-23-18-2...   \n",
      "7157450  InChI=1S/C17H17F2N3O2S/c1-24-11-6-2-4-9-13(11)...   \n",
      "\n",
      "                            InChIKey  \n",
      "0        FAKRSMQSSFJEIM-RQJHMYQMSA-N  \n",
      "1        OYFJQPXVCSSHAI-QFPUQLAESA-N  \n",
      "2        OYFJQPXVCSSHAI-BDURURIASA-N  \n",
      "3        VEVNVDSWFRHHHC-FPYGCLRLSA-N  \n",
      "4        RKCLSSXCTPLPRF-NSCUHMNNSA-N  \n",
      "...                              ...  \n",
      "7157446  OSQPZAGWBWHPLX-UHFFFAOYSA-N  \n",
      "7157447  ZEKIUIYOEFJNJY-BYYHNAKLSA-N  \n",
      "7157448  AQAKKPAIUKJXTE-XYZCENFISA-N  \n",
      "7157449  OLFSGHDNCQJZOP-UHFFFAOYSA-N  \n",
      "7157450  DIYHLCNEWMXTKG-SNVBAGLBSA-N  \n",
      "\n",
      "[7157451 rows x 4 columns]\n"
     ]
    }
   ],
   "source": [
    "#Test a subset of SureChemBL\n",
    "fp = \"G:\\\\Shared drives\\\\SureChemBL_Patents\\\\Cpd_Data\\SureChEMBL_20141001_1.txt\"\n",
    "surechembl_df = pd.read_csv(fp, sep='\\t')\n",
    "print(surechembl_df)"
   ]
  },
  {
   "cell_type": "code",
   "execution_count": 14,
   "metadata": {},
   "outputs": [
    {
     "name": "stdout",
     "output_type": "stream",
     "text": [
      "          SureChEMBL_ID                                             SMILES  \\\n",
      "0              SCHEMBL4                   C[C@H](CS)C(=O)N1CCC[C@H]1C(O)=O   \n",
      "1              SCHEMBL9  O=C(O)\\C=C/C(=O)O.CCOC(=O)[C@H](CCC1=CC=CC=C1)...   \n",
      "2             SCHEMBL10  OC(=O)C=CC(O)=O.CCOC(=O)[C@H](CCC1=CC=CC=C1)N[...   \n",
      "3             SCHEMBL11  CC\\C=C\\C1=NC(Cl)=C(C=O)N1CC1=CC=C(C=C1)C1=C(C=...   \n",
      "4             SCHEMBL12  CC=CCC1=NC(Cl)=C(C=O)N1CC1=CC=C(C=C1)C1=C(C=CC...   \n",
      "...                 ...                                                ...   \n",
      "7157446  SCHEMBL7999995             CCCCC1=CC2=CC=CC=C2C(OCC(CCN)N(C)C)=N1   \n",
      "7157447  SCHEMBL7999997  CCCCCCCCCCCCCCCC(CC)NC(C(C)C)C1=CC2=C(C=CC(C)(...   \n",
      "7157448  SCHEMBL7999998  COC1=C(F)C(C)=NC(=N1)N1C[C@H]2C(=O)N(C)C(=N)N[...   \n",
      "7157449  SCHEMBL7999999  CCCCCCOC1=C(OC(C)C)C(=O)N(CCCCCC)C2=C1C=CC(NC(...   \n",
      "7157450  SCHEMBL8000000  COC1=C2C3=C(NC(=O)C2=CC=C1)SC(CN1CCC[C@@H]1C(F...   \n",
      "\n",
      "                                                     InChI  \\\n",
      "0        InChI=1S/C9H15NO3S/c1-6(5-14)8(11)10-4-2-3-7(1...   \n",
      "1        InChI=1S/C20H28N2O5.C4H4O4/c1-3-27-20(26)16(12...   \n",
      "2        InChI=1S/C20H28N2O5.C4H4O4/c1-3-27-20(26)16(12...   \n",
      "3        InChI=1S/C22H19ClN6O/c1-2-3-8-20-24-21(23)19(1...   \n",
      "4        InChI=1S/C22H19ClN6O/c1-2-3-8-20-24-21(23)19(1...   \n",
      "...                                                    ...   \n",
      "7157446  InChI=1S/C19H29N3O/c1-4-5-9-16-13-15-8-6-7-10-...   \n",
      "7157447  InChI=1S/C37H60N2O/c1-7-9-10-11-12-13-14-15-16...   \n",
      "7157448  InChI=1S/C17H18ClFN6O2S/c1-8-12(19)13(27-3)22-...   \n",
      "7157449  InChI=1S/C26H40N2O4/c1-6-8-10-12-16-28-23-18-2...   \n",
      "7157450  InChI=1S/C17H17F2N3O2S/c1-24-11-6-2-4-9-13(11)...   \n",
      "\n",
      "                           InChI_key  \n",
      "0        FAKRSMQSSFJEIM-RQJHMYQMSA-N  \n",
      "1        OYFJQPXVCSSHAI-QFPUQLAESA-N  \n",
      "2        OYFJQPXVCSSHAI-BDURURIASA-N  \n",
      "3        VEVNVDSWFRHHHC-FPYGCLRLSA-N  \n",
      "4        RKCLSSXCTPLPRF-NSCUHMNNSA-N  \n",
      "...                              ...  \n",
      "7157446  OSQPZAGWBWHPLX-UHFFFAOYSA-N  \n",
      "7157447  ZEKIUIYOEFJNJY-BYYHNAKLSA-N  \n",
      "7157448  AQAKKPAIUKJXTE-XYZCENFISA-N  \n",
      "7157449  OLFSGHDNCQJZOP-UHFFFAOYSA-N  \n",
      "7157450  DIYHLCNEWMXTKG-SNVBAGLBSA-N  \n",
      "\n",
      "[7157451 rows x 4 columns]\n"
     ]
    }
   ],
   "source": [
    "surechembl_df = surechembl_df.rename(columns={\"InChIKey\":\"InChI_key\"})"
   ]
  },
  {
   "cell_type": "markdown",
   "metadata": {},
   "source": [
    "## SureChemBL/Reaxys analysis\n",
    "\n",
    "Combine & analyze the two databases"
   ]
  },
  {
   "cell_type": "code",
   "execution_count": 56,
   "metadata": {},
   "outputs": [
    {
     "name": "stdout",
     "output_type": "stream",
     "text": [
      "             smiles                    InChI_key reaxys_id n_references  \\\n",
      "0    CC(O)CN1CCCCC1  UCASFSAKVJTSET-UHFFFAOYSA-N      1268           56   \n",
      "1     CCCC1CCCCN1CC  WIIWOZRNGAHZGW-UHFFFAOYSA-N      1272            1   \n",
      "2  CC1CN(C)CC(C)N1C  XVJRVYONDJGSLX-UHFFFAOYSA-N      1273           16   \n",
      "3      OCCCN1CCCCC1  PLRXAFVBCHEMGD-UHFFFAOYSA-N      1275          208   \n",
      "4    CC1CCCN(CCO)C1  CAMLJDZKPYMXOK-UHFFFAOYSA-N      1278            4   \n",
      "\n",
      "                                  name as_reagent as_product   SureChEMBL_ID  \\\n",
      "0         1-Piperidin-1-yl-propan-2-ol       None         14   SCHEMBL862327   \n",
      "1          1-Ethyl-2-propyl-piperidine       None          0  SCHEMBL1275000   \n",
      "2       1,2,4,6-Tetramethyl-piperazine       None          0    SCHEMBL81109   \n",
      "3                                   na       None         16     SCHEMBL9400   \n",
      "4  2-(3-Methyl-piperidin-1-yl)-ethanol       None          2    SCHEMBL13003   \n",
      "\n",
      "             SMILES                                              InChI  \n",
      "0    CC(O)CN1CCCCC1  InChI=1S/C8H17NO/c1-8(10)7-9-5-3-2-4-6-9/h8,10...  \n",
      "1     CCCC1CCCCN1CC  InChI=1S/C10H21N/c1-3-7-10-8-5-6-9-11(10)4-2/h...  \n",
      "2  CC1CN(C)CC(C)N1C  InChI=1S/C8H18N2/c1-7-5-9(3)6-8(2)10(7)4/h7-8H...  \n",
      "3      OCCCN1CCCCC1  InChI=1S/C8H17NO/c10-8-4-7-9-5-2-1-3-6-9/h10H,...  \n",
      "4    CC1CCCN(CCO)C1  InChI=1S/C8H17NO/c1-8-3-2-4-9(7-8)5-6-10/h8,10...  \n"
     ]
    }
   ],
   "source": [
    "dataframes = [df, surechembl_df]\n",
    "combined_df = reduce(lambda left, right: pd.merge(left, right, on=[\"InChI_key\"], how=\"inner\"), dataframes)\n",
    "print(combined_df.head())"
   ]
  },
  {
   "cell_type": "code",
   "execution_count": 57,
   "metadata": {},
   "outputs": [
    {
     "name": "stdout",
     "output_type": "stream",
     "text": [
      "<class 'dict'>\n",
      "[('SCHEMBL18007617', 801), ('SCHEMBL19276898', 162), ('SCHEMBL24290', 917), ('SCHEMBL2945027', 938), ('SCHEMBL31363', 603), ('SCHEMBL2127406', 533), ('SCHEMBL79611', 364), ('SCHEMBL343756', 104), ('SCHEMBL12205249', 359), ('SCHEMBL1725161', 52)]\n"
     ]
    }
   ],
   "source": [
    "#Try to add degrees to this combined dataframe...\n",
    "fp = \"G:\\\\Shared drives\\\\SureChemBL_Patents\\\\Degrees\\\\Months\\\\IdDegrees\\\\id_degrees_2019-12.p\"\n",
    "id_degrees = pickle.load(file=open(fp, \"rb\"))\n",
    "print(type(id_degrees))\n",
    "\n",
    "print(list(islice(id_degrees.items(), 10)))"
   ]
  },
  {
   "cell_type": "code",
   "execution_count": 58,
   "metadata": {},
   "outputs": [
    {
     "name": "stdout",
     "output_type": "stream",
     "text": [
      "         SureChEMBL_ID  degree\n",
      "0      SCHEMBL18007617     801\n",
      "1      SCHEMBL19276898     162\n",
      "2         SCHEMBL24290     917\n",
      "3       SCHEMBL2945027     938\n",
      "4         SCHEMBL31363     603\n",
      "...                ...     ...\n",
      "93695    SCHEMBL290836     411\n",
      "93696     SCHEMBL20977     238\n",
      "93697  SCHEMBL21599701    1458\n",
      "93698  SCHEMBL21602312    1060\n",
      "93699  SCHEMBL21600585     617\n",
      "\n",
      "[93700 rows x 2 columns]\n"
     ]
    }
   ],
   "source": [
    "id_degree_df = pd.DataFrame(list(id_degrees.items()), columns=[\"SureChEMBL_ID\", \"degree\"])\n",
    "print(id_degree_df)"
   ]
  },
  {
   "cell_type": "code",
   "execution_count": 59,
   "metadata": {},
   "outputs": [
    {
     "name": "stdout",
     "output_type": "stream",
     "text": [
      "Index(['smiles', 'InChI_key', 'reaxys_id', 'n_references', 'name',\n",
      "       'as_reagent', 'as_product', 'SureChEMBL_ID', 'SMILES', 'InChI',\n",
      "       'degree'],\n",
      "      dtype='object')\n"
     ]
    }
   ],
   "source": [
    "dataframes = [combined_df, id_degree_df]\n",
    "full_df = reduce(lambda left, right: pd.merge(left, right, on=[\"SureChEMBL_ID\"], how=\"inner\"), dataframes)\n",
    "print(full_df.columns)"
   ]
  },
  {
   "cell_type": "code",
   "execution_count": 70,
   "metadata": {},
   "outputs": [],
   "source": [
    "full_df[\"n_references\"] = pd.to_numeric(full_df[\"n_references\"])\n",
    "full_df[\"as_reagent\"] = pd.to_numeric(full_df[\"as_reagent\"])\n",
    "full_df[\"as_product\"] = pd.to_numeric(full_df[\"as_product\"])"
   ]
  },
  {
   "cell_type": "code",
   "execution_count": 75,
   "metadata": {},
   "outputs": [
    {
     "data": {
      "text/plain": [
       "Text(0, 0.5, 'N_Products')"
      ]
     },
     "execution_count": 75,
     "metadata": {},
     "output_type": "execute_result"
    },
    {
     "data": {
      "image/png": "[encoded data removed]",
      "text/plain": [
       "<Figure size 576x576 with 1 Axes>"
      ]
     },
     "metadata": {
      "needs_background": "light"
     },
     "output_type": "display_data"
    }
   ],
   "source": [
    "plt.figure(figsize=(8,8))\n",
    "plt.scatter(full_df.degree, full_df.as_product)\n",
    "\n",
    "plt.xlabel(\"Degree\")\n",
    "plt.ylabel(\"N_Products\")"
   ]
  },
  {
   "cell_type": "code",
   "execution_count": 74,
   "metadata": {},
   "outputs": [
    {
     "data": {
      "text/plain": [
       "Text(0, 0.5, 'N_Products')"
      ]
     },
     "execution_count": 74,
     "metadata": {},
     "output_type": "execute_result"
    },
    {
     "data": {
      "image/png": "[encoded data removed]",
      "text/plain": [
       "<Figure size 576x576 with 1 Axes>"
      ]
     },
     "metadata": {
      "needs_background": "light"
     },
     "output_type": "display_data"
    }
   ],
   "source": [
    "plt.figure(figsize=(8,8))\n",
    "plt.scatter(full_df.n_references, full_df.as_product)\n",
    "\n",
    "plt.xlabel(\"N_References\")\n",
    "plt.ylabel(\"N_Products\")"
   ]
  },
  {
   "cell_type": "markdown",
   "metadata": {},
   "source": [
    "## Random Reaxys MA \n",
    "\n",
    "Open Q: what was the criteria for selecting these? What kind of metadata do I have?"
   ]
  },
  {
   "cell_type": "code",
   "execution_count": 3,
   "metadata": {},
   "outputs": [],
   "source": [
    "#Get MA values\n",
    "def get_MA(fp):\n",
    "    \"\"\" Get AssemblyGo MA value\n",
    "\n",
    "    Args:\n",
    "        fp (str): filepath to a particular .txt AssemblyGo output file\n",
    "\n",
    "    Returns:\n",
    "        label (str): label of the compound which was analzyed\n",
    "        MA (int): assemblyGo MA value\n",
    "        time (float): how much time it took to complete each MA run\n",
    "    \"\"\"\n",
    "    with open(fp) as f:\n",
    "        lines = f.readlines()\n",
    "\n",
    "    try:\n",
    "        #molfile will be the last element in 0th line\n",
    "        label = lines[0].split()[-1].split(\"/\")[-1].split(\".\")[0]\n",
    "\n",
    "        #MA will be last elemnt in -2nd line (will be an int)\n",
    "        MA = int(lines[-2].split()[-1])\n",
    "\n",
    "        time = float(lines[-1].split()[-1])\n",
    "        \n",
    "        return label, MA, time\n",
    "\n",
    "    except:\n",
    "        return None, None, None\n",
    "\n"
   ]
  },
  {
   "cell_type": "code",
   "execution_count": 8,
   "metadata": {},
   "outputs": [
    {
     "name": "stderr",
     "output_type": "stream",
     "text": [
      "100%|██████████| 79873/79873 [00:12<00:00, 6287.48it/s]\n"
     ]
    }
   ],
   "source": [
    "#Get list of MA values, create a pandas dataframe of label/MA values\n",
    "fp = \"Data/AssemblyValues/ReaxysRandom_Done/ReaxysRandom_Done/\"\n",
    "result_files = [x for x in os.listdir(fp) if x.endswith(\".txt\")]\n",
    "\n",
    "results = []\n",
    "for f in tqdm(result_files):\n",
    "    label, MA, time = get_MA(fp + f)\n",
    "    results.append({\"label\": label, \"MA\": MA, \"time\": time})\n",
    "    "
   ]
  },
  {
   "cell_type": "code",
   "execution_count": 9,
   "metadata": {},
   "outputs": [
    {
     "name": "stdout",
     "output_type": "stream",
     "text": [
      "          label    MA        time\n",
      "0      10757719  17.0  300.914381\n",
      "1       5380159  29.0  299.824537\n",
      "2      31671536  29.0  299.933365\n",
      "3      10975189  12.0  106.447870\n",
      "4      34942307  19.0  300.748215\n",
      "...         ...   ...         ...\n",
      "79868  24689744  19.0  300.139830\n",
      "79869  27396869  15.0    1.379475\n",
      "79870   7386348   9.0    0.110438\n",
      "79871    819170  20.0  300.043927\n",
      "79872  26189414  12.0   75.268518\n",
      "\n",
      "[79873 rows x 3 columns]\n"
     ]
    }
   ],
   "source": [
    "results_df = pd.DataFrame(results)\n",
    "print(results_df)"
   ]
  },
  {
   "cell_type": "code",
   "execution_count": 17,
   "metadata": {},
   "outputs": [
    {
     "name": "stdout",
     "output_type": "stream",
     "text": [
      "63.0\n"
     ]
    },
    {
     "data": {
      "image/png": "[encoded data removed]",
      "text/plain": [
       "<Figure size 432x288 with 1 Axes>"
      ]
     },
     "metadata": {
      "needs_background": "light"
     },
     "output_type": "display_data"
    }
   ],
   "source": [
    "max_value = max(results_df[\"MA\"])\n",
    "print(max_value)\n",
    "\n",
    "plt.hist(results_df[\"MA\"], bins=int(max_value + 1)) #+1 to account for -1 values, probably should be removed\n",
    "\n",
    "plt.show()"
   ]
  }
 ],
 "metadata": {
  "kernelspec": {
   "display_name": "Python 3.9.5 64-bit",
   "language": "python",
   "name": "python3"
  },
  "language_info": {
   "codemirror_mode": {
    "name": "ipython",
    "version": 3
   },
   "file_extension": ".py",
   "mimetype": "text/x-python",
   "name": "python",
   "nbconvert_exporter": "python",
   "pygments_lexer": "ipython3",
   "version": "3.9.5"
  },
  "orig_nbformat": 4,
  "vscode": {
   "interpreter": {
    "hash": "aee8b7b246df8f9039afb4144a1f6fd8d2ca17a180786b69acc140d282b71a49"
   }
  }
 },
 "nbformat": 4,
 "nbformat_minor": 2
}

{
 "cells": [
  {
   "cell_type": "code",
   "execution_count": 17,
   "metadata": {
    "colab": {
     "base_uri": "https://localhost:8080/"
    },
    "id": "bkN2a8m8yNEE",
    "outputId": "29827612-e47b-49ae-e196-976a25d848aa"
   },
   "outputs": [
    {
     "name": "stdout",
     "output_type": "stream",
     "text": [
      "Requirement already satisfied: powerlaw in /usr/local/lib/python3.9/site-packages (1.4.6)\n",
      "Requirement already satisfied: scipy in /usr/local/lib/python3.9/site-packages (from powerlaw) (1.5.4)\n",
      "Requirement already satisfied: mpmath in /usr/local/lib/python3.9/site-packages (from powerlaw) (1.1.0)\n",
      "Requirement already satisfied: matplotlib in /usr/local/lib/python3.9/site-packages (from powerlaw) (3.3.3)\n",
      "Requirement already satisfied: numpy in /usr/local/lib/python3.9/site-packages (from powerlaw) (1.19.4)\n",
      "Requirement already satisfied: python-dateutil>=2.1 in /usr/local/lib/python3.9/site-packages (from matplotlib->powerlaw) (2.8.1)\n",
      "Requirement already satisfied: pyparsing!=2.0.4,!=2.1.2,!=2.1.6,>=2.0.3 in /usr/local/lib/python3.9/site-packages (from matplotlib->powerlaw) (2.4.7)\n",
      "Requirement already satisfied: cycler>=0.10 in /usr/local/lib/python3.9/site-packages (from matplotlib->powerlaw) (0.10.0)\n",
      "Requirement already satisfied: pillow>=6.2.0 in /usr/local/lib/python3.9/site-packages (from matplotlib->powerlaw) (8.0.1)\n",
      "Requirement already satisfied: kiwisolver>=1.0.1 in /usr/local/lib/python3.9/site-packages (from matplotlib->powerlaw) (1.3.1)\n",
      "Requirement already satisfied: six>=1.5 in /usr/local/lib/python3.9/site-packages (from python-dateutil>=2.1->matplotlib->powerlaw) (1.15.0)\n"
     ]
    }
   ],
   "source": [
    "!python3 -m pip install powerlaw"
   ]
  },
  {
   "cell_type": "code",
   "execution_count": 18,
   "metadata": {
    "colab": {
     "base_uri": "https://localhost:8080/"
    },
    "id": "-4cASr97yNEG",
    "outputId": "f4a3275f-0270-4724-8afe-e8b50ecbb2aa"
   },
   "outputs": [],
   "source": [
    "import igraph as ig\n",
    "import numpy as np\n",
    "import pickle\n",
    "import pandas as pd\n",
    "import matplotlib.pyplot as plt\n",
    "import matplotlib.patches as mpatches\n",
    "from itertools import islice\n",
    "from tqdm import tqdm\n",
    "import os\n",
    "from random import sample\n",
    "import scipy.stats as stats\n",
    "import powerlaw"
   ]
  },
  {
   "cell_type": "code",
   "execution_count": 3,
   "metadata": {},
   "outputs": [],
   "source": [
    "## Matplotlib defaults ##\n",
    "colors = {\"1980\": \"#aa0f35\", \n",
    "         \"1985\": \"#fdc799\",\n",
    "         \"1990\": \"#abdbfc\",\n",
    "         \"1995\": \"#a0a75c\",\n",
    "         \"2000\": \"#603734\",\n",
    "         \"2005\": \"#009ecb\",\n",
    "         \"2010\": \"#430057\",\n",
    "         \"2015\": \"#f89b00\"}\n",
    "\n",
    "font = {'family' : 'normal',\n",
    "        'weight' : 'bold',\n",
    "        'size'   : 22}\n",
    "\n",
    "plt.rcParams.update({'font.size': 22})"
   ]
  },
  {
   "cell_type": "markdown",
   "metadata": {
    "id": "zKy-xuXCyNEH"
   },
   "source": [
    "# Degree Analysis\n",
    "\n",
    "Compare degree distributions & other degree-based stats"
   ]
  },
  {
   "cell_type": "markdown",
   "metadata": {
    "id": "LsVlTufAyNEI"
   },
   "source": [
    "## Degree distributions\n",
    "\n",
    "Comparisons of degree distributions across months"
   ]
  },
  {
   "cell_type": "code",
   "execution_count": 12,
   "metadata": {},
   "outputs": [
    {
     "name": "stdout",
     "output_type": "stream",
     "text": [
      "<class 'list'>\n",
      "[1, 84, 5, 2, 1, 14, 6, 1, 55, 4]\n"
     ]
    }
   ],
   "source": [
    "#TESTING - get one month working\n",
    "cpd_degrees = pickle.load(file=open(\"Data/Degrees/cpd_degrees_1980-01.p\", \"rb\"))\n",
    "patent_degrees = pickle.load(file=open(\"Data/Degrees/patent_degrees_1980-01.p\", \"rb\"))\n",
    "\n",
    "print(type(cpd_degrees))\n",
    "print(cpd_degrees[0:10])"
   ]
  },
  {
   "cell_type": "code",
   "execution_count": 14,
   "metadata": {},
   "outputs": [
    {
     "name": "stdout",
     "output_type": "stream",
     "text": [
      "DescribeResult(nobs=551235, minmax=(1, 596829), mean=289.3535007755313, variance=22220054.09029946, skewness=51.599033457631066, kurtosis=3940.7540822292654)\n",
      "\n",
      "DescribeResult(nobs=4578946, minmax=(0, 5020), mean=34.833731823873876, variance=4045.377753074271, skewness=7.511152075165203, kurtosis=165.978253118909)\n"
     ]
    }
   ],
   "source": [
    "#Bastic stats\n",
    "print(stats.describe(cpd_degrees))\n",
    "print()\n",
    "print(stats.describe(patent_degrees))"
   ]
  },
  {
   "cell_type": "code",
   "execution_count": 11,
   "metadata": {},
   "outputs": [
    {
     "data": {
      "image/png": "[encoded data removed]",
      "text/plain": [
       "<Figure size 432x288 with 1 Axes>"
      ]
     },
     "metadata": {
      "needs_background": "light"
     },
     "output_type": "display_data"
    }
   ],
   "source": [
    "plt.hist(cpd_degrees, bins=100)\n",
    "plt.yscale(\"log\")\n",
    "\n",
    "plt.show()"
   ]
  },
  {
   "cell_type": "code",
   "execution_count": 36,
   "metadata": {},
   "outputs": [
    {
     "data": {
      "image/png": "[encoded data removed]",
      "text/plain": [
       "<Figure size 432x288 with 1 Axes>"
      ]
     },
     "metadata": {
      "needs_background": "light"
     },
     "output_type": "display_data"
    }
   ],
   "source": [
    "cpd_degrees.sort(reverse=True)\n",
    "\n",
    "plt.scatter(np.arange(0,len(cpd_degrees),1), cpd_degrees)\n",
    "plt.yscale(\"log\")"
   ]
  },
  {
   "cell_type": "code",
   "execution_count": 15,
   "metadata": {},
   "outputs": [
    {
     "data": {
      "image/png": "[encoded data removed]",
      "text/plain": [
       "<Figure size 432x288 with 1 Axes>"
      ]
     },
     "metadata": {
      "needs_background": "light"
     },
     "output_type": "display_data"
    }
   ],
   "source": [
    "plt.hist(patent_degrees, bins=100)\n",
    "plt.yscale(\"log\")\n",
    "\n",
    "plt.show()"
   ]
  },
  {
   "cell_type": "code",
   "execution_count": 37,
   "metadata": {},
   "outputs": [
    {
     "data": {
      "image/png": "[encoded data removed]",
      "text/plain": [
       "<Figure size 432x288 with 1 Axes>"
      ]
     },
     "metadata": {
      "needs_background": "light"
     },
     "output_type": "display_data"
    }
   ],
   "source": [
    "patent_degrees.sort(reverse=True)\n",
    "\n",
    "plt.scatter(np.arange(0,len(patent_degrees),1), patent_degrees)\n",
    "plt.yscale(\"log\")"
   ]
  },
  {
   "cell_type": "markdown",
   "metadata": {},
   "source": [
    "### Powerlaw Testing"
   ]
  },
  {
   "cell_type": "code",
   "execution_count": 25,
   "metadata": {},
   "outputs": [
    {
     "name": "stderr",
     "output_type": "stream",
     "text": [
      "Calculating best minimal value for power law fit\n",
      "/usr/local/lib/python3.9/site-packages/powerlaw.py:699: RuntimeWarning: invalid value encountered in true_divide\n",
      "  (CDF_diff**2) /\n"
     ]
    },
    {
     "name": "stdout",
     "output_type": "stream",
     "text": [
      "<powerlaw.Fit object at 0x1493053d0>\n"
     ]
    }
   ],
   "source": [
    "#Powerlaw testing\n",
    "fit = powerlaw.Fit(cpd_degrees)\n",
    "print(fit)"
   ]
  },
  {
   "cell_type": "code",
   "execution_count": 32,
   "metadata": {},
   "outputs": [
    {
     "name": "stdout",
     "output_type": "stream",
     "text": [
      "2.113126061345115\n",
      "0.022566972331619188\n",
      "11845.0\n",
      "431.3385623929011 2.3925672195144096e-21\n",
      "-29.32081248237728 5.435056912214664e-07\n"
     ]
    }
   ],
   "source": [
    "print(fit.power_law.alpha)\n",
    "print(fit.power_law.sigma)\n",
    "print(fit.power_law.xmin)\n",
    "\n",
    "#NOTE: positive R = first fit is better. Negative R = second fit is better. p is the significance in either case.\n",
    "R, p = fit.distribution_compare('power_law', 'exponential')\n",
    "print(R, p)\n",
    "R, p = fit.distribution_compare('power_law', 'lognormal')\n",
    "print(R, p)"
   ]
  },
  {
   "cell_type": "code",
   "execution_count": 30,
   "metadata": {},
   "outputs": [
    {
     "data": {
      "text/plain": [
       "<AxesSubplot:>"
      ]
     },
     "execution_count": 30,
     "metadata": {},
     "output_type": "execute_result"
    },
    {
     "data": {
      "image/png": "[encoded data removed]",
      "text/plain": [
       "<Figure size 432x288 with 1 Axes>"
      ]
     },
     "metadata": {
      "needs_background": "light"
     },
     "output_type": "display_data"
    }
   ],
   "source": [
    "powerlaw.plot_pdf(cpd_degrees, color='b')\n",
    "fit.plot_pdf(color='r')"
   ]
  },
  {
   "cell_type": "markdown",
   "metadata": {},
   "source": [
    "# Network Statistics\n",
    "\n",
    "Nodes, Edges, cpds vs patents, avg degree, max degree, etc..."
   ]
  },
  {
   "cell_type": "code",
   "execution_count": 39,
   "metadata": {},
   "outputs": [
    {
     "name": "stdout",
     "output_type": "stream",
     "text": [
      "   Unnamed: 0    Nodes      Edges  Cpd Nodes  Patent Nodes  Avg Degree  \\\n",
      "0           0  5130181  159501777     551235       4578946   62.181735   \n",
      "\n",
      "   Cpd Avg Degree  Patent Avg Degree  LCC Size  \n",
      "0      289.353501          34.833732   5035294  \n"
     ]
    }
   ],
   "source": [
    "df = pd.read_csv(\"Data/NetworkStats/stats_cpdsPatents_1980-01.csv\")\n",
    "print(df)"
   ]
  },
  {
   "cell_type": "code",
   "execution_count": 51,
   "metadata": {},
   "outputs": [
    {
     "data": {
      "text/plain": [
       "<matplotlib.legend.Legend at 0x1075c8dc0>"
      ]
     },
     "execution_count": 51,
     "metadata": {},
     "output_type": "execute_result"
    },
    {
     "data": {
      "image/png": "[encoded data removed]",
      "text/plain": [
       "<Figure size 432x288 with 1 Axes>"
      ]
     },
     "metadata": {
      "needs_background": "light"
     },
     "output_type": "display_data"
    }
   ],
   "source": [
    "#Plot all sizes on one plot\n",
    "plt.plot(df[\"Nodes\"], 'o', label=\"Total\", )\n",
    "plt.plot(df[\"Cpd Nodes\"], 'o', label=\"Cpds\")\n",
    "plt.plot(df[\"Patent Nodes\"], 'o', label=\"Patents\")\n",
    "plt.plot(df[\"LCC Size\"], 'o', label=\"LCC\")\n",
    "\n",
    "plt.legend(prop={\"size\":14})"
   ]
  },
  {
   "cell_type": "markdown",
   "metadata": {},
   "source": [
    "## LCC Analysis\n",
    "\n",
    "Which IDs are present, do they change over time, etc..."
   ]
  },
  {
   "cell_type": "code",
   "execution_count": 52,
   "metadata": {},
   "outputs": [
    {
     "name": "stdout",
     "output_type": "stream",
     "text": [
      "<class 'list'>\n"
     ]
    }
   ],
   "source": [
    "lcc_ids = pickle.load(file=open(\"Data/NetworkStats/lcc_ids_1980-01.p\", \"rb\"))\n",
    "print(type(lcc_ids))"
   ]
  },
  {
   "cell_type": "code",
   "execution_count": 62,
   "metadata": {},
   "outputs": [
    {
     "name": "stdout",
     "output_type": "stream",
     "text": [
      "<class 'list'>\n",
      "5035294\n",
      "SCHEMBL41\n"
     ]
    }
   ],
   "source": [
    "print(type(lcc_ids[0]))\n",
    "print(len(lcc_ids[0]))\n",
    "print(lcc_ids[0][0])"
   ]
  }
 ],
 "metadata": {
  "@webio": {
   "lastCommId": null,
   "lastKernelId": null
  },
  "colab": {
   "name": "network_analysis.ipynb",
   "provenance": []
  },
  "interpreter": {
   "hash": "1be55384c451fe56f92e5faf5510c021c5000e799c9b0590170c7bf4c3dba058"
  },
  "kernelspec": {
   "display_name": "Python 3 (ipykernel)",
   "language": "python",
   "name": "python3"
  },
  "language_info": {
   "codemirror_mode": {
    "name": "ipython",
    "version": 3
   },
   "file_extension": ".py",
   "mimetype": "text/x-python",
   "name": "python",
   "nbconvert_exporter": "python",
   "pygments_lexer": "ipython3",
   "version": "3.9.0"
  }
 },
 "nbformat": 4,
 "nbformat_minor": 1
}

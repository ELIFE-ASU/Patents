{
 "cells": [
  {
   "cell_type": "code",
   "execution_count": 10,
   "metadata": {},
   "outputs": [],
   "source": [
    "import igraph as ig\n",
    "import numpy as np\n",
    "import pickle\n",
    "import pandas as pd\n",
    "import matplotlib.pyplot as plt"
   ]
  },
  {
   "cell_type": "markdown",
   "metadata": {},
   "source": [
    "# Connectivity analysis\n",
    "\n",
    "_Question:_ Does connectivity increase over time within SureChemBL? \n",
    "\n",
    "_Hypothesis:_ patents become more connective over time, thereby using more of the same chemical space over time"
   ]
  },
  {
   "cell_type": "markdown",
   "metadata": {},
   "source": [
    "## Bipartite stats\n",
    "\n",
    "Use basic statistics (number of nodes & edges of both cpds & patents) from bipartite network analysis to test percent connectivity"
   ]
  },
  {
   "cell_type": "code",
   "execution_count": 11,
   "metadata": {},
   "outputs": [
    {
     "name": "stdout",
     "output_type": "stream",
     "text": [
      "       date  cpd_nodes  cpd_edges  patent_nodes  patent_edges\n",
      "0  20150401     869036  484179436         41857     182454199\n",
      "1  20150701     951080  527550160         47526     231670792\n",
      "2  20151001    1030925  613582529         47152     230089433\n",
      "3  20160101    1047732  598757891         52121     289018241\n",
      "4  20160401     991621  550943030         50111     274711475\n"
     ]
    }
   ],
   "source": [
    "df = pd.read_csv(\"Data/Graphs/bipartite_sizes.csv\")\n",
    "print(df.head())"
   ]
  },
  {
   "cell_type": "code",
   "execution_count": 13,
   "metadata": {},
   "outputs": [
    {
     "data": {
      "text/plain": [
       "<matplotlib.collections.PathCollection at 0x2183e5075f8>"
      ]
     },
     "execution_count": 13,
     "metadata": {},
     "output_type": "execute_result"
    },
    {
     "data": {
      "image/png": "[encoded data removed]",
      "text/plain": [
       "<Figure size 432x288 with 1 Axes>"
      ]
     },
     "metadata": {
      "needs_background": "light"
     },
     "output_type": "display_data"
    }
   ],
   "source": [
    "#Does patent nodes scale with patent edges?\n",
    "plt.scatter(x=df[\"patent_nodes\"], y=df[\"patent_edges\"])"
   ]
  },
  {
   "cell_type": "code",
   "execution_count": 14,
   "metadata": {},
   "outputs": [
    {
     "data": {
      "text/plain": [
       "<matplotlib.collections.PathCollection at 0x2183e5755f8>"
      ]
     },
     "execution_count": 14,
     "metadata": {},
     "output_type": "execute_result"
    },
    {
     "data": {
      "image/png": "[encoded data removed]",
      "text/plain": [
       "<Figure size 432x288 with 1 Axes>"
      ]
     },
     "metadata": {
      "needs_background": "light"
     },
     "output_type": "display_data"
    }
   ],
   "source": [
    "#How about compounds?\n",
    "plt.scatter(x=df[\"cpd_nodes\"], y=df[\"cpd_edges\"])"
   ]
  },
  {
   "cell_type": "code",
   "execution_count": 6,
   "metadata": {},
   "outputs": [
    {
     "name": "stdout",
     "output_type": "stream",
     "text": [
      "IGRAPH UN-T 1162328 4555905 -- \n",
      "+ attr: date (v), name (v), type (v)\n",
      "None\n"
     ]
    }
   ],
   "source": [
    "#Test graph analysis\n",
    "G = pickle.load(file=open(\"Data/Graphs/G_20210101.p\", \"rb\"))\n",
    "print(ig.summary(G))"
   ]
  }
 ],
 "metadata": {
  "kernelspec": {
   "display_name": "Python 3",
   "language": "python",
   "name": "python3"
  },
  "language_info": {
   "codemirror_mode": {
    "name": "ipython",
    "version": 3
   },
   "file_extension": ".py",
   "mimetype": "text/x-python",
   "name": "python",
   "nbconvert_exporter": "python",
   "pygments_lexer": "ipython3",
   "version": "3.7.3"
  }
 },
 "nbformat": 4,
 "nbformat_minor": 4
}
